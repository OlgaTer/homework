{
 "cells": [
  {
   "cell_type": "markdown",
   "metadata": {},
   "source": [
    "## Задание 1.\n",
    "### Даны 2 строки: long_phrase и short_phrase. Напишите код, который проверяет действительно ли длинная фраза long_phrase длиннее короткой short_phrase. И выводит True или False в зависимости от результата сравнения."
   ]
  },
  {
   "cell_type": "code",
   "execution_count": 47,
   "metadata": {},
   "outputs": [
    {
     "output_type": "stream",
     "name": "stdout",
     "text": "True\n"
    }
   ],
   "source": [
    "long_phrase = 'Насколько проще было бы писать программы, если бы не заказчики'\n",
    "short_phrase = '640Кб должно хватить для любых задач. Билл Гейтс (по легенде)'\n",
    "if len(long_phrase) > len(short_phrase):\n",
    "    print('True')\n",
    "else:\n",
    "    print('False')  "
   ]
  },
  {
   "cell_type": "markdown",
   "metadata": {},
   "source": [
    "## Задание 2.\n",
    "### Дано значение объема файла в байтах (в мегабайте 2^20 байт). Напишите перевод этого значения в мегабайты в формате: \"Объем файла равен 213.68Mb\"."
   ]
  },
  {
   "cell_type": "code",
   "execution_count": 53,
   "metadata": {},
   "outputs": [
    {
     "output_type": "stream",
     "name": "stdout",
     "text": "Объем файла равен 0.12Mb\n"
    }
   ],
   "source": [
    "byte = int(input('Введите объем файла в байтах'))\n",
    "mg_byte = 2**20\n",
    "print('Объем файла равен ', round(byte/mg_byte, 2), 'Mb', sep='')\n"
   ]
  },
  {
   "cell_type": "markdown",
   "metadata": {},
   "source": [
    "## Задание 3.\n",
    "### Разработать приложение для определения знака зодиака по дате рождения.\n",
    "Пример:\n",
    "\n",
    "Введите месяц: март\n",
    "\n",
    "Введите число: 6\n",
    "\n",
    "Вывод: Рыбы"
   ]
  },
  {
   "cell_type": "code",
   "execution_count": 56,
   "metadata": {},
   "outputs": [
    {
     "output_type": "stream",
     "name": "stdout",
     "text": "Близнецы\nУдачного дня!\n"
    }
   ],
   "source": [
    "month = input('Введите название месяца с маленькой буквы')\n",
    "date = int(input('Введите число рождения'))\n",
    "if ((month == 'март' and 21 <= date <= 31) or (month == 'апрель' and 1 <= date <=20)):\n",
    "    print('Овен')\n",
    "elif ((month == 'апрель' and 21 <= date <= 30) or (month == 'май' and 1 <= date <=21)):\n",
    "    print('Телец')\n",
    "elif((month == 'май' and 22 <= date <= 31) or (month == 'июнь' and 1 <= date <=21)):\n",
    "    print('Близнецы')\n",
    "elif ((month == 'июнь' and 22 <= date <= 30) or (month == 'июль' and 1 <= date <=22)):\n",
    "    print('Рак')\n",
    "elif ((month == 'июль' and 23 <= date <= 31) or (month == 'август' and 1 <= date <=21)):\n",
    "    print('Лев')\n",
    "elif ((month == 'август' and 22 <= date <= 31) or (month == 'сентябрь' and 1 <= date <=23)):\n",
    "    print('Дева')\n",
    "elif ((month == 'сентябрь' and 24 <= date <= 30) or (month == 'октябрь' and 1 <= date <=23)):\n",
    "    print('Весы')\n",
    "elif ((month == 'октябрь' and 24 <= date <= 31) or (month == 'ноябрь' and 1 <= date <=22)):\n",
    "    print('Скорпион')\n",
    "elif ((month == 'ноябрь' and 23 <= date <= 30) or (month == 'декабрь' and 1 <= date <=22)):\n",
    "    print('Стрелец')\n",
    "elif ((month == 'декабрь' and 23 <= date <= 31) or (month == 'январь' and 1 <= date <=20)):\n",
    "    print('Козерог')\n",
    "elif ((month == 'январь' and 21 <= date <= 31) or (month == 'февраль' and 1 <= date <=19)):\n",
    "    print('Водолей')\n",
    "elif ((month == 'февраль' and 20 <= date <= 29) or (month == 'март' and 1 <= date <=20)):\n",
    "    print('Рыбы')\n",
    "else:\n",
    "    print('Вашего знака зодиака нет')\n",
    "print('Удачного дня!')"
   ]
  },
  {
   "cell_type": "markdown",
   "metadata": {},
   "source": [
    "## Задание 4.\n",
    "### Нужно разработать приложение для финансового планирования. Приложение учитывает сколько уходит на ипотеку, \"на жизнь\" и сколько нужно отложить на пенсию.\n",
    "\n",
    "Пользователь вводит:\n",
    "\n",
    "* заработанную плату в месяц.\n",
    "* сколько процентов от ЗП уходит на ипотеку.\n",
    "* сколько процентов от ЗП уходит \"на жизнь\".\n",
    "* сколько раз приходит премия в год.\n",
    "\n",
    "Остальная часть заработанной платы откладывается на пенсию.\n",
    "\n",
    "Также пользователю приходит премия в размере зарплаты, от которой половина уходит на отпуск, а вторая половина откладывается.\n",
    "\n",
    "Программа должна учитывать сколько премий было в год.\n",
    "\n",
    "Нужно вывести сколько денег тратит пользователь на ипотеку и сколько он накопит за год.\n",
    "\n",
    "Пример:\n",
    "\n",
    "Введите заработанную плату в месяц: 100000\n",
    "\n",
    "Введите сколько процентов уходит на ипотеку: 30\n",
    "\n",
    "Введите сколько процентов уходит на жизнь: 50\n",
    "\n",
    "Введите количество премий за год: 2\n",
    "\n",
    "Вывод: На ипотеку было потрачено: 360000 рублей Было накоплено: 340000 рублей"
   ]
  },
  {
   "cell_type": "code",
   "execution_count": 74,
   "metadata": {},
   "outputs": [
    {
     "output_type": "stream",
     "name": "stdout",
     "text": "На ипотеку было потрачено: 4320 рублей Было накоплено: 41400 рублей\n"
    }
   ],
   "source": [
    "salary = int(input('Введите в рублях заработную плату (ЗП) в месяц'))\n",
    "percent_mortgage = int(input('Введите сколько процентов от ЗП уходит на ипотеку'))\n",
    "percent_life = int(input('Введите сколько процентов от ЗП уходит \"на жизнь\"'))\n",
    "num_premium = int(input('Введите количество премий за год'))\n",
    "mortgage = int(((salary * percent_mortgage)/100)*12)\n",
    "life = int(((salary * percent_life)/100)*12)\n",
    "saving = int((salary * 12 - mortgage - life) + (salary * num_premium * 0.5))\n",
    "if saving > 0:\n",
    "    print('На ипотеку было потрачено:', mortgage, 'рублей', 'Было накоплено:', saving, 'рублей')\n",
    "else:\n",
    "    print('На ипотеку было потрачено:', mortgage, 'рублей', 'Накопить Вам не удалось...')"
   ]
  },
  {
   "cell_type": "code",
   "execution_count": null,
   "metadata": {},
   "outputs": [],
   "source": []
  }
 ],
 "metadata": {
  "language_info": {
   "codemirror_mode": {
    "name": "ipython",
    "version": 3
   },
   "file_extension": ".py",
   "mimetype": "text/x-python",
   "name": "python",
   "nbconvert_exporter": "python",
   "pygments_lexer": "ipython3",
   "version": "3.7.1-final"
  },
  "orig_nbformat": 2,
  "kernelspec": {
   "name": "python3",
   "display_name": "Python 3"
  }
 },
 "nbformat": 4,
 "nbformat_minor": 2
}