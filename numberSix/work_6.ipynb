{
 "cells": [
  {
   "cell_type": "markdown",
   "metadata": {},
   "source": [
    "### Задание 1\n",
    "\n",
    "Печатные газеты использовали свой формат дат для каждого выпуска. Для каждой газеты из списка напишите формат указанной даты для перевода в объект datetime:\n",
    "\n",
    "The Moscow Times - Wednesday, October 2, 2002\n",
    "\n",
    "The Guardian - Friday, 11.10.13\n",
    "\n",
    "Daily News - Thursday, 18 August 1977\n",
    "\n"
   ]
  },
  {
   "cell_type": "code",
   "execution_count": 1,
   "metadata": {},
   "outputs": [],
   "source": [
    "from datetime import datetime\n"
   ]
  },
  {
   "cell_type": "code",
   "execution_count": 2,
   "metadata": {},
   "outputs": [
    {
     "output_type": "execute_result",
     "data": {
      "text/plain": "datetime.datetime(2002, 10, 2, 0, 0)"
     },
     "metadata": {},
     "execution_count": 2
    }
   ],
   "source": [
    "# The Moscow Times\n",
    "datetime.strptime('Wednesday, October 2, 2002', '%A, %B %d, %Y')"
   ]
  },
  {
   "cell_type": "code",
   "execution_count": 3,
   "metadata": {},
   "outputs": [
    {
     "output_type": "execute_result",
     "data": {
      "text/plain": "datetime.datetime(2013, 10, 11, 0, 0)"
     },
     "metadata": {},
     "execution_count": 3
    }
   ],
   "source": [
    "# The Guardian - издается в Великобритании (британский вариант указания даты идентичен нашему: день, месяц, год)\n",
    "datetime.strptime('Friday, 11.10.13', '%A, %d.%m.%y')"
   ]
  },
  {
   "cell_type": "code",
   "execution_count": 4,
   "metadata": {},
   "outputs": [
    {
     "output_type": "execute_result",
     "data": {
      "text/plain": "datetime.datetime(1977, 8, 18, 0, 0)"
     },
     "metadata": {},
     "execution_count": 4
    }
   ],
   "source": [
    "# Daily News\n",
    "datetime.strptime('Thursday, 18 August 1977', '%A, %d %B %Y')"
   ]
  },
  {
   "cell_type": "markdown",
   "metadata": {},
   "source": [
    "### Задание 2\n",
    "Дан поток дат в формате YYYY-MM-DD, в которых встречаются некорректные значения:\n",
    "\n",
    "stream = \\['2018-04-02', '2018-02-29', '2018-19-02'\\]\n",
    "\n",
    "Напишите функцию, которая проверяет эти даты на корректность. Т. е. для каждой даты возвращает True (дата корректна) или False (некорректная дата). \n"
   ]
  },
  {
   "cell_type": "code",
   "execution_count": 5,
   "metadata": {},
   "outputs": [],
   "source": [
    "stream = ['2018-04-02', '2018-02-29', '2018-19-02']"
   ]
  },
  {
   "cell_type": "code",
   "execution_count": 6,
   "metadata": {},
   "outputs": [],
   "source": [
    "def true_date():\n",
    "    for date in stream:\n",
    "        try:\n",
    "            datetime.strptime(date, '%Y-%m-%d')\n",
    "            print(date, True)\n",
    "        except:\n",
    "            print(date, False)"
   ]
  },
  {
   "cell_type": "code",
   "execution_count": 7,
   "metadata": {},
   "outputs": [
    {
     "output_type": "stream",
     "name": "stdout",
     "text": "2018-04-02 True\n2018-02-29 False\n2018-19-02 False\n"
    }
   ],
   "source": [
    "true_date()"
   ]
  },
  {
   "cell_type": "markdown",
   "metadata": {},
   "source": [
    "### Задание 3\n",
    "Напишите функцию date_range, которая возвращает список дат за период от start_date до end_date.\n",
    "\n",
    "Даты должны вводиться в формате YYYY-MM-DD. В случае неверного формата или при start_date > end_date должен возвращаться пустой список.\n"
   ]
  },
  {
   "cell_type": "code",
   "execution_count": 8,
   "metadata": {},
   "outputs": [],
   "source": [
    "from datetime import timedelta"
   ]
  },
  {
   "cell_type": "code",
   "execution_count": 9,
   "metadata": {},
   "outputs": [],
   "source": [
    "def date_range():\n",
    "    start_date = input('Введите начальную дату в формате YYYY-MM-DD')\n",
    "    end_date = input('Введите конечную дату в формате YYYY-MM-DD')\n",
    "    \n",
    "    start_end = [start_date, end_date]\n",
    "    list_date = []\n",
    "\n",
    "    for date in start_end:\n",
    "        try:\n",
    "            datetime.strptime(date, '%Y-%m-%d')\n",
    "        except:\n",
    "            print(list_date)\n",
    "            return\n",
    "\n",
    "    start_date_dt = datetime.strptime(start_date, '%Y-%m-%d')\n",
    "    end_date_dt = datetime.strptime(end_date, '%Y-%m-%d')\n",
    "\n",
    "    while start_date_dt <= end_date_dt:\n",
    "        list_date.append(start_date_dt.strftime('%Y-%m-%d'))\n",
    "    \n",
    "        start_date_dt += timedelta(days=1)\n",
    "\n",
    "    print(list_date)"
   ]
  },
  {
   "cell_type": "code",
   "execution_count": 12,
   "metadata": {},
   "outputs": [
    {
     "output_type": "stream",
     "name": "stdout",
     "text": "[]\n"
    }
   ],
   "source": [
    "date_range()"
   ]
  },
  {
   "cell_type": "markdown",
   "metadata": {},
   "source": [
    "### Задание 4 (бонусное)\n",
    "\n",
    "Ваш коллега прислал код функции (см. ниже), которая удаляет из списка default_list последнего пользователя и возвращает ID нового последнего пользователя.\n",
    "\n",
    "При однократном вызове этой функции все работает корректно:\n",
    "\n",
    "delete_and_return_last_user(1)\n",
    "\n",
    "'A101'\n",
    "\n",
    "\n",
    "Однако при повторном вызове получается ошибка - IndexError: list index out of range.\n",
    "\n",
    "Задание:\n",
    "\n",
    "1. Что значит ошибка list index out of range?\n",
    "\n",
    "2. Почему при первом запуске функция работает корректно, а при втором - нет?\n"
   ]
  },
  {
   "cell_type": "code",
   "execution_count": 13,
   "metadata": {},
   "outputs": [],
   "source": [
    "DEFAULT_USER_COUNT = 3\n",
    "\n",
    "def delete_and_return_last_user(default_list=['A100', 'A101', 'A102']):\n",
    "    element_to_delete = default_list[-1]\n",
    "    default_list.remove(element_to_delete)\n",
    "    \n",
    "    return default_list[DEFAULT_USER_COUNT-2]"
   ]
  },
  {
   "cell_type": "code",
   "execution_count": 15,
   "metadata": {},
   "outputs": [
    {
     "output_type": "error",
     "ename": "IndexError",
     "evalue": "list index out of range",
     "traceback": [
      "\u001b[0;31m---------------------------------------------------------------------------\u001b[0m",
      "\u001b[0;31mIndexError\u001b[0m                                Traceback (most recent call last)",
      "\u001b[0;32m<ipython-input-15-cf70e540751d>\u001b[0m in \u001b[0;36m<module>\u001b[0;34m\u001b[0m\n\u001b[0;32m----> 1\u001b[0;31m \u001b[0mdelete_and_return_last_user\u001b[0m\u001b[0;34m(\u001b[0m\u001b[0;34m)\u001b[0m\u001b[0;34m\u001b[0m\u001b[0;34m\u001b[0m\u001b[0m\n\u001b[0m",
      "\u001b[0;32m<ipython-input-13-4109c47b6b44>\u001b[0m in \u001b[0;36mdelete_and_return_last_user\u001b[0;34m(default_list)\u001b[0m\n\u001b[1;32m      5\u001b[0m     \u001b[0mdefault_list\u001b[0m\u001b[0;34m.\u001b[0m\u001b[0mremove\u001b[0m\u001b[0;34m(\u001b[0m\u001b[0melement_to_delete\u001b[0m\u001b[0;34m)\u001b[0m\u001b[0;34m\u001b[0m\u001b[0;34m\u001b[0m\u001b[0m\n\u001b[1;32m      6\u001b[0m \u001b[0;34m\u001b[0m\u001b[0m\n\u001b[0;32m----> 7\u001b[0;31m     \u001b[0;32mreturn\u001b[0m \u001b[0mdefault_list\u001b[0m\u001b[0;34m[\u001b[0m\u001b[0mDEFAULT_USER_COUNT\u001b[0m\u001b[0;34m-\u001b[0m\u001b[0;36m2\u001b[0m\u001b[0;34m]\u001b[0m\u001b[0;34m\u001b[0m\u001b[0;34m\u001b[0m\u001b[0m\n\u001b[0m",
      "\u001b[0;31mIndexError\u001b[0m: list index out of range"
     ]
    }
   ],
   "source": [
    "delete_and_return_last_user()"
   ]
  },
  {
   "cell_type": "markdown",
   "metadata": {},
   "source": [
    "#### Ответ\n",
    "\n",
    "Ошибка - list index out of range - означает, что в списке нет элемента с таким индексом, дословно \"индекс списка вне диапазона\".\n",
    "\n",
    "Код выполняется с ошибкой из-за переменной DEFAULT_USER_COUNT. Ей изначально присвоено значение 3, а функция \"постоянно\" возвращает элемент списка default_list с индексом 1 (3 - 2 = 1).\n",
    "\n",
    "В итоге при первом запуске функция работает корректно: из списка из 3-х элементов удаляется последний и выводится второй элемент с индексом 1. Этот индекс совпадает с константой \\[DEFAULT_USER_COUNT-2\\].\n",
    "\n",
    "При повторном вызове функции из списка, состоящего уже из 2-х элементов, удаляется элемент с индексом 1, т.е. остается единственный - с индексом 0. А функция по-прежнему должна вывести элемент с индексом 1, которого по факту уже не существует. Отсюда и ошибка."
   ]
  },
  {
   "cell_type": "code",
   "execution_count": null,
   "metadata": {},
   "outputs": [],
   "source": []
  }
 ],
 "metadata": {
  "language_info": {
   "codemirror_mode": {
    "name": "ipython",
    "version": 3
   },
   "file_extension": ".py",
   "mimetype": "text/x-python",
   "name": "python",
   "nbconvert_exporter": "python",
   "pygments_lexer": "ipython3",
   "version": "3.7.2-final"
  },
  "orig_nbformat": 2,
  "kernelspec": {
   "name": "python37264bit756f231e437a4db2b965934ccae74f70",
   "display_name": "Python 3.7.2 64-bit"
  }
 },
 "nbformat": 4,
 "nbformat_minor": 2
}