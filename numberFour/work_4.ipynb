{
 "cells": [
  {
   "cell_type": "markdown",
   "metadata": {},
   "source": [
    "Вы работаете секретарем и вам постоянно приходят различные документы. Вы должны быть очень внимательны, чтобы не потерять ни один документ. Каталог документов хранится в следующем виде:"
   ]
  },
  {
   "cell_type": "code",
   "execution_count": 75,
   "metadata": {},
   "outputs": [],
   "source": [
    "documents = [\n",
    "    {'type': 'passport', 'number': '2207 876234', 'name': 'Василий Гупкин'},\n",
    "    {'type': 'invoice', 'number': '11-2', 'name': 'Геннадий Покемонов'},\n",
    "    {'type': 'insurance', 'number': '10006', 'name': 'Аристарх Павлов'}\n",
    "]"
   ]
  },
  {
   "cell_type": "markdown",
   "metadata": {},
   "source": [
    "Перечень полок, на которых находятся документы, хранится в следующем виде:"
   ]
  },
  {
   "cell_type": "code",
   "execution_count": 76,
   "metadata": {},
   "outputs": [],
   "source": [
    "directories = {\n",
    "    '1': ['2207 876234', '11-2'],\n",
    "    '2': ['10006'],\n",
    "    '3': []\n",
    "}"
   ]
  },
  {
   "cell_type": "markdown",
   "metadata": {},
   "source": [
    "Необходимо реализовать пользовательские команды (внимание! это не название функций, которые должны быть выразительными, а команды, которые вводит пользователь, чтобы получить необходимый результат):"
   ]
  },
  {
   "cell_type": "markdown",
   "metadata": {},
   "source": [
    "1. p – people – команда, которая спросит номер документа и выведет имя человека, которому он принадлежит.\n",
    "1. s – shelf – команда, которая спросит номер документа и выведет номер полки, на которой он находится.\n",
    "**Правильно обработайте ситуации, когда пользователь будет вводить несуществующий документ.**\n",
    "1. l – list – команда, которая выведет список всех документов в формате:\n",
    "**passport \"2207 876234\" \"Василий Гупкин\"**\n",
    "1. as – add shelf – команда, которая спросит номер новой полки и добавит ее в перечень. **Предусмотрите случай, когда пользователь добавляет полку, которая уже существует.**\n",
    "1. d – delete – команда, которая спросит номер документа и удалит его из каталога и из перечня полок. **Предусмотрите сценарий, когда пользователь вводит несуществующий документ.**\n",
    "1. m – move – команда, которая спросит номер документа и целевую полку и переместит его с текущей полки на целевую. **Корректно обработайте кейсы, когда пользователь пытается переместить несуществующий документ или переместить документ на несуществующую полку.**\n",
    "1. a – add – команда, которая добавит новый документ в каталог и в перечень полок, спросив его номер, тип, имя владельца и номер полки, на котором он будет храниться. **Корректно обработайте ситуацию, когда пользователь будет пытаться добавить документ на несуществующую полку.**"
   ]
  },
  {
   "cell_type": "code",
   "execution_count": 65,
   "metadata": {},
   "outputs": [],
   "source": [
    "def name_person():\n",
    "    \"\"\" Поиск имени человека по номеру документа \"\"\"\n",
    "\n",
    "    user_number = str(input('Введите номер документа'))\n",
    "    \n",
    "    for document in documents:\n",
    "        if user_number == document['number']:\n",
    "            return print(document['name'])\n",
    "    else:\n",
    "        print('Такого документа не существует')\n",
    "            "
   ]
  },
  {
   "cell_type": "code",
   "execution_count": 66,
   "metadata": {},
   "outputs": [],
   "source": [
    "def number_shelf():\n",
    "    \"\"\" Поиск номера полки по номеру документа \"\"\"\n",
    "\n",
    "    user_number = str(input('Введите номер документа'))\n",
    "    \n",
    "    for number_shelf, number_document in directories.items():\n",
    "        if user_number in number_document:\n",
    "            return print(number_shelf)\n",
    "    else:\n",
    "        print('Такого документа не существует')\n"
   ]
  },
  {
   "cell_type": "code",
   "execution_count": 67,
   "metadata": {},
   "outputs": [],
   "source": [
    "def all_documents():\n",
    "    \"\"\" Вывод всех документов \"\"\"\n",
    "    \n",
    "    for document in documents:\n",
    "        print(f\"{document['type']} \\\"{document['number']}\\\" \\\"{document['name']}\\\"\")"
   ]
  },
  {
   "cell_type": "code",
   "execution_count": 68,
   "metadata": {},
   "outputs": [],
   "source": [
    "def new_shelf():\n",
    "    \"\"\" Добавление новой полки в перечень \"\"\"\n",
    "    \n",
    "    print(f\"Существующий перечень полок: {list(directories.keys())}\")\n",
    "    user_shelf = str(input('Введите номер полки'))\n",
    "\n",
    "    for number_shelf in directories.keys():\n",
    "        if user_shelf in number_shelf:\n",
    "            return print('Такая полка уже есть')\n",
    "    else:\n",
    "        directories[user_shelf] = []\n",
    "\n",
    "    print(f\"Актуальный перечень полок: {list(directories.keys())}\")"
   ]
  },
  {
   "cell_type": "code",
   "execution_count": 69,
   "metadata": {},
   "outputs": [],
   "source": [
    "def delete_everywhere():\n",
    "    \"\"\" Удаление номера документа из каталога и из перечня полок \"\"\"\n",
    "\n",
    "    user_number = str(input('Введите номер документа'))\n",
    "\n",
    "    for document in documents:\n",
    "        if user_number == document['number']:\n",
    "            del(document['number'])\n",
    "            break\n",
    "    else:\n",
    "        return print('Такого документа в каталоге нет')\n",
    "\n",
    "    for number_document in directories.values():\n",
    "        if user_number in number_document:\n",
    "            number_document.remove(user_number)\n",
    "\n",
    "    print(documents)\n",
    "    print()\n",
    "    print(directories)"
   ]
  },
  {
   "cell_type": "code",
   "execution_count": 70,
   "metadata": {},
   "outputs": [],
   "source": [
    "def moving_shelf():\n",
    "    \"\"\" Перемещение документа с текущей полки на целевую \"\"\"\n",
    "\n",
    "    user_number = str(input('Введите номер документа'))\n",
    "    user_target_shelf = str(input('Введите целевую полку'))\n",
    "\n",
    "    for number_shelf in directories.keys():\n",
    "        if user_target_shelf in number_shelf:\n",
    "           break\n",
    "    else:\n",
    "        return print('Такой полки не существует, документ не перемещен')\n",
    "\n",
    "    for number_document in directories.values():\n",
    "        if user_number in number_document:\n",
    "            number_document.remove(user_number)\n",
    "            break\n",
    "    else:\n",
    "        return print('Такого документа не существует')\n",
    "\n",
    "    for number_shelf, number_document in directories.items():\n",
    "        if user_target_shelf in number_shelf:\n",
    "            number_document.append(user_number)\n",
    "            break\n",
    "           \n",
    "    print(f\"Актуальный перечень: {directories}\")"
   ]
  },
  {
   "cell_type": "code",
   "execution_count": 71,
   "metadata": {},
   "outputs": [],
   "source": [
    "def adding_document_catalog_shelf():\n",
    "    \"\"\" Добавление нового документа в каталог и в перечень полок \"\"\"\n",
    "\n",
    "    user_number = str(input('Введите номер документа'))\n",
    "    user_type = str(input('Введите тип документа'))\n",
    "    user_name = str(input('Введите имя владельца'))\n",
    "    user_shelf = str(input('Введите номер полки'))\n",
    "\n",
    "    for number_shelf, number_document in directories.items():\n",
    "        if user_shelf in number_shelf:\n",
    "            number_document.append(user_number)\n",
    "\n",
    "            new_document = {'type': user_type, 'number': user_number, 'name': user_name}\n",
    "            documents.append(new_document)\n",
    "            break\n",
    "    else:\n",
    "        print('Такого номера полки нет, документ никуда не добавлен')\n",
    "\n",
    "    print()\n",
    "    print(documents)\n",
    "    print()\n",
    "    print(directories)"
   ]
  },
  {
   "cell_type": "code",
   "execution_count": 72,
   "metadata": {},
   "outputs": [],
   "source": [
    "def main():\n",
    "    while True:\n",
    "        user_input = input(\"Введите команду маленькими латинскими буквами. Перечень команд: p – выведет имя человека по номеру документа; s - выведет номер полки, на которой находится документ; l - выведет список всех документов; as – добавит в перечень номер новой полки; d – удалит номер документа из каталога и из перечня полок; m – переместит номер документа с текущей полки на целевую; a – добавит новый документ в каталог и в перечень полок; q - выход из программы.\")\n",
    "        if user_input == 'p':\n",
    "            name_person()\n",
    "            print()\n",
    "        elif user_input == 's':\n",
    "            number_shelf()\n",
    "            print()\n",
    "        elif user_input == 'l':\n",
    "            all_documents()\n",
    "            print()\n",
    "        elif user_input == 'as':\n",
    "            new_shelf()\n",
    "            print()\n",
    "        elif user_input == 'd':\n",
    "            delete_everywhere()\n",
    "            print()\n",
    "        elif user_input == 'm':\n",
    "            moving_shelf()\n",
    "            print()\n",
    "        elif user_input == 'a':\n",
    "            adding_document_catalog_shelf()\n",
    "            print()\n",
    "        elif user_input == 'q':\n",
    "            break"
   ]
  },
  {
   "cell_type": "code",
   "execution_count": 79,
   "metadata": {},
   "outputs": [],
   "source": [
    "main()"
   ]
  },
  {
   "cell_type": "code",
   "execution_count": null,
   "metadata": {},
   "outputs": [],
   "source": []
  }
 ],
 "metadata": {
  "language_info": {
   "codemirror_mode": {
    "name": "ipython",
    "version": 3
   },
   "file_extension": ".py",
   "mimetype": "text/x-python",
   "name": "python",
   "nbconvert_exporter": "python",
   "pygments_lexer": "ipython3",
   "version": "3.7.2-final"
  },
  "orig_nbformat": 2,
  "kernelspec": {
   "name": "python3",
   "display_name": "Python 3"
  }
 },
 "nbformat": 4,
 "nbformat_minor": 2
}