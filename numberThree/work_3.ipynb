{
 "cells": [
  {
   "cell_type": "markdown",
   "metadata": {},
   "source": [
    "## Задание 1.\n",
    "### Дан список с визитами по городам и странам. Напишите код, который возвращает отфильтрованный список geo_logs, содержащий только визиты из России."
   ]
  },
  {
   "cell_type": "code",
   "execution_count": 233,
   "metadata": {},
   "outputs": [
    {
     "output_type": "execute_result",
     "data": {
      "text/plain": "[{'visit1': ['Москва', 'Россия']},\n {'visit3': ['Владимир', 'Россия']},\n {'visit7': ['Тула', 'Россия']},\n {'visit8': ['Тула', 'Россия']},\n {'visit9': ['Курск', 'Россия']},\n {'visit10': ['Архангельск', 'Россия']}]"
     },
     "metadata": {},
     "execution_count": 233
    }
   ],
   "source": [
    "geo_logs = [\n",
    "    {'visit1': ['Москва', 'Россия']},\n",
    "    {'visit2': ['Дели', 'Индия']},\n",
    "    {'visit3': ['Владимир', 'Россия']},\n",
    "    {'visit4': ['Лиссабон', 'Португалия']},\n",
    "    {'visit5': ['Париж', 'Франция']},\n",
    "    {'visit6': ['Лиссабон', 'Португалия']},\n",
    "    {'visit7': ['Тула', 'Россия']},\n",
    "    {'visit8': ['Тула', 'Россия']},\n",
    "    {'visit9': ['Курск', 'Россия']},\n",
    "    {'visit10': ['Архангельск', 'Россия']}\n",
    "]\n",
    "\n",
    "sorted_geo_logs = []\n",
    "\n",
    "for index in range(len(geo_logs)):\n",
    "    for visit, country in geo_logs[index].items():\n",
    "        if country[1] == 'Россия':\n",
    "            sorted_geo_logs.append(geo_logs[index])\n",
    "\n",
    "sorted_geo_logs\n"
   ]
  },
  {
   "cell_type": "markdown",
   "metadata": {},
   "source": [
    "## Задание 2.\n",
    "### Выведите на экран все уникальные гео-ID из значений словаря ids, т.е. список вида \\[213, 15, 54, 119, 98, 35\\]"
   ]
  },
  {
   "cell_type": "code",
   "execution_count": 234,
   "metadata": {},
   "outputs": [
    {
     "output_type": "stream",
     "name": "stdout",
     "text": "[213, 15, 54, 119, 98, 35]\n"
    }
   ],
   "source": [
    "ids = {'user1': [213, 213, 213, 15, 213], \n",
    "       'user2': [54, 54, 119, 119, 119], \n",
    "       'user3': [213, 98, 98, 35]}\n",
    "\n",
    "unic_number = []\n",
    "\n",
    "for geo_id in ids.values():\n",
    "    for geo in geo_id:\n",
    "        if geo not in unic_number:\n",
    "            unic_number.append(geo)\n",
    "\n",
    "print(unic_number)\n"
   ]
  },
  {
   "cell_type": "markdown",
   "metadata": {},
   "source": [
    "## Задание 3.\n",
    "### Дан список поисковых запросов. Получить распределение количества слов в них, т.е. поисковых запросов из одного слова 5%, из двух - 7%, из трех - 3% и т.д."
   ]
  },
  {
   "cell_type": "code",
   "execution_count": 227,
   "metadata": {},
   "outputs": [
    {
     "output_type": "stream",
     "name": "stdout",
     "text": "Количество слов в поисковом запросе - 3, 57%\nКоличество слов в поисковом запросе - 2, 43%\n"
    }
   ],
   "source": [
    "queries = [\n",
    "    'смотреть сериалы онлайн',\n",
    "    'новости спорта',\n",
    "    'афиша кино',\n",
    "    'курс доллара',\n",
    "    'сериалы этим летом',\n",
    "    'курс по питону',\n",
    "    'сериалы про спорт'\n",
    "]\n",
    "\n",
    "words_list = []\n",
    "words_dict = {}\n",
    "\n",
    "for index in range(len(queries)):\n",
    "    new_list = queries[index].split(' ')\n",
    "    length = len(new_list)\n",
    "    words_list.append(length)\n",
    "    words_dict[length] = words_list.count(length)\n",
    "    \n",
    "for num, quantity in words_dict.items():\n",
    "    percent = round(quantity / len(queries) * 100)\n",
    "    print(f\"Количество слов в поисковом запросе - {num}, {percent}%\")"
   ]
  },
  {
   "cell_type": "markdown",
   "metadata": {},
   "source": [
    "## Задание 4.\n",
    "### Дана статистика рекламных каналов по объемам продаж. Напишите скрипт, который возвращает название канала с максимальным объемом, т.е. в данном примере скрипт должен возвращать 'yandex'."
   ]
  },
  {
   "cell_type": "code",
   "execution_count": 229,
   "metadata": {},
   "outputs": [
    {
     "output_type": "stream",
     "name": "stdout",
     "text": "yandex\n"
    }
   ],
   "source": [
    "stats = {'facebook': 55, 'yandex': 120, 'vk': 115, 'google': 99, 'email': 42, 'ok': 98}\n",
    "\n",
    "for company, quantity in stats.items():\n",
    "    if quantity != max(stats.values()):\n",
    "        continue\n",
    "    else:\n",
    "        print(company)"
   ]
  },
  {
   "cell_type": "markdown",
   "metadata": {},
   "source": [
    "## Задание 5.\n",
    "### Напишите код для преобразования произвольного списка вида \\['2018-01-01', 'yandex', 'cpc', 100\\] (он может быть любой длины) в словарь {'2018-01-01': {'yandex': {'cpc': 100}}}"
   ]
  },
  {
   "cell_type": "code",
   "execution_count": 235,
   "metadata": {},
   "outputs": [
    {
     "output_type": "stream",
     "name": "stdout",
     "text": "{'2018-01-01': {'yandex': {'cpc': {100: 'hello'}}}}\n"
    }
   ],
   "source": [
    "random_list = [\n",
    "    '2018-01-01',\n",
    "    'yandex',\n",
    "    'cpc',\n",
    "    100,\n",
    "    'hello'\n",
    "]\n",
    "\n",
    "random_list.reverse()\n",
    "value = random_list.pop(0)\n",
    "\n",
    "for element in random_list:\n",
    "    value = {element: value}\n",
    "\n",
    "print(value)"
   ]
  }
 ],
 "metadata": {
  "kernelspec": {
   "display_name": "Python 3",
   "language": "python",
   "name": "python3"
  },
  "language_info": {
   "codemirror_mode": {
    "name": "ipython",
    "version": 3
   },
   "file_extension": ".py",
   "mimetype": "text/x-python",
   "name": "python",
   "nbconvert_exporter": "python",
   "pygments_lexer": "ipython3",
   "version": "3.7.1-final"
  }
 },
 "nbformat": 4,
 "nbformat_minor": 2
}