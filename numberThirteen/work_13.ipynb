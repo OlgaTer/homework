{
 "cells": [
  {
   "cell_type": "markdown",
   "metadata": {},
   "source": [
    "## Задание 1\n",
    "\n",
    "Используйте файл с оценками фильмов ml-latest-small/ratings.csv.\n",
    "\n",
    "Посчитайте среднее время жизни пользователей, которые выставили более 100 оценок.\n",
    "\n",
    "Под временем жизни понимается разница между максимальным и минимальным значением столбца timestamp для данного значения userId."
   ]
  },
  {
   "cell_type": "markdown",
   "metadata": {},
   "source": [
    "### 1-ый вариант"
   ]
  },
  {
   "cell_type": "code",
   "execution_count": 1,
   "metadata": {},
   "outputs": [],
   "source": [
    "import pandas as pd"
   ]
  },
  {
   "cell_type": "code",
   "execution_count": 2,
   "metadata": {},
   "outputs": [
    {
     "output_type": "execute_result",
     "data": {
      "text/plain": "        userId  movieId  rating   timestamp\n99999      671     6268     2.5  1065579370\n100000     671     6269     4.0  1065149201\n100001     671     6365     4.0  1070940363\n100002     671     6385     2.5  1070979663\n100003     671     6565     3.5  1074784724",
      "text/html": "<div>\n<style scoped>\n    .dataframe tbody tr th:only-of-type {\n        vertical-align: middle;\n    }\n\n    .dataframe tbody tr th {\n        vertical-align: top;\n    }\n\n    .dataframe thead th {\n        text-align: right;\n    }\n</style>\n<table border=\"1\" class=\"dataframe\">\n  <thead>\n    <tr style=\"text-align: right;\">\n      <th></th>\n      <th>userId</th>\n      <th>movieId</th>\n      <th>rating</th>\n      <th>timestamp</th>\n    </tr>\n  </thead>\n  <tbody>\n    <tr>\n      <th>99999</th>\n      <td>671</td>\n      <td>6268</td>\n      <td>2.5</td>\n      <td>1065579370</td>\n    </tr>\n    <tr>\n      <th>100000</th>\n      <td>671</td>\n      <td>6269</td>\n      <td>4.0</td>\n      <td>1065149201</td>\n    </tr>\n    <tr>\n      <th>100001</th>\n      <td>671</td>\n      <td>6365</td>\n      <td>4.0</td>\n      <td>1070940363</td>\n    </tr>\n    <tr>\n      <th>100002</th>\n      <td>671</td>\n      <td>6385</td>\n      <td>2.5</td>\n      <td>1070979663</td>\n    </tr>\n    <tr>\n      <th>100003</th>\n      <td>671</td>\n      <td>6565</td>\n      <td>3.5</td>\n      <td>1074784724</td>\n    </tr>\n  </tbody>\n</table>\n</div>"
     },
     "metadata": {},
     "execution_count": 2
    }
   ],
   "source": [
    "# читаем исходный файл\n",
    "\n",
    "df_rating = pd.read_csv('ratings.csv')\n",
    "df_rating.tail()"
   ]
  },
  {
   "cell_type": "code",
   "execution_count": 3,
   "metadata": {},
   "outputs": [
    {
     "output_type": "execute_result",
     "data": {
      "text/plain": "        userId  movieId  rating   timestamp                time\n99999      671     6268     2.5  1065579370 2003-10-08 02:16:10\n100000     671     6269     4.0  1065149201 2003-10-03 02:46:41\n100001     671     6365     4.0  1070940363 2003-12-09 03:26:03\n100002     671     6385     2.5  1070979663 2003-12-09 14:21:03\n100003     671     6565     3.5  1074784724 2004-01-22 15:18:44",
      "text/html": "<div>\n<style scoped>\n    .dataframe tbody tr th:only-of-type {\n        vertical-align: middle;\n    }\n\n    .dataframe tbody tr th {\n        vertical-align: top;\n    }\n\n    .dataframe thead th {\n        text-align: right;\n    }\n</style>\n<table border=\"1\" class=\"dataframe\">\n  <thead>\n    <tr style=\"text-align: right;\">\n      <th></th>\n      <th>userId</th>\n      <th>movieId</th>\n      <th>rating</th>\n      <th>timestamp</th>\n      <th>time</th>\n    </tr>\n  </thead>\n  <tbody>\n    <tr>\n      <th>99999</th>\n      <td>671</td>\n      <td>6268</td>\n      <td>2.5</td>\n      <td>1065579370</td>\n      <td>2003-10-08 02:16:10</td>\n    </tr>\n    <tr>\n      <th>100000</th>\n      <td>671</td>\n      <td>6269</td>\n      <td>4.0</td>\n      <td>1065149201</td>\n      <td>2003-10-03 02:46:41</td>\n    </tr>\n    <tr>\n      <th>100001</th>\n      <td>671</td>\n      <td>6365</td>\n      <td>4.0</td>\n      <td>1070940363</td>\n      <td>2003-12-09 03:26:03</td>\n    </tr>\n    <tr>\n      <th>100002</th>\n      <td>671</td>\n      <td>6385</td>\n      <td>2.5</td>\n      <td>1070979663</td>\n      <td>2003-12-09 14:21:03</td>\n    </tr>\n    <tr>\n      <th>100003</th>\n      <td>671</td>\n      <td>6565</td>\n      <td>3.5</td>\n      <td>1074784724</td>\n      <td>2004-01-22 15:18:44</td>\n    </tr>\n  </tbody>\n</table>\n</div>"
     },
     "metadata": {},
     "execution_count": 3
    }
   ],
   "source": [
    "# переводим время в \"понятный\" формат\n",
    "\n",
    "df_rating['time'] = pd.to_datetime(df_rating['timestamp'], unit='s')\n",
    "df_rating.tail()"
   ]
  },
  {
   "cell_type": "code",
   "execution_count": 4,
   "metadata": {},
   "outputs": [
    {
     "output_type": "execute_result",
     "data": {
      "text/plain": "     userId            max_time\n666     667 1996-11-06 09:23:54\n667     668 2001-06-27 03:44:38\n668     669 2002-03-11 06:56:06\n669     670 1999-10-26 13:20:33\n670     671 2004-01-22 15:18:55",
      "text/html": "<div>\n<style scoped>\n    .dataframe tbody tr th:only-of-type {\n        vertical-align: middle;\n    }\n\n    .dataframe tbody tr th {\n        vertical-align: top;\n    }\n\n    .dataframe thead th {\n        text-align: right;\n    }\n</style>\n<table border=\"1\" class=\"dataframe\">\n  <thead>\n    <tr style=\"text-align: right;\">\n      <th></th>\n      <th>userId</th>\n      <th>max_time</th>\n    </tr>\n  </thead>\n  <tbody>\n    <tr>\n      <th>666</th>\n      <td>667</td>\n      <td>1996-11-06 09:23:54</td>\n    </tr>\n    <tr>\n      <th>667</th>\n      <td>668</td>\n      <td>2001-06-27 03:44:38</td>\n    </tr>\n    <tr>\n      <th>668</th>\n      <td>669</td>\n      <td>2002-03-11 06:56:06</td>\n    </tr>\n    <tr>\n      <th>669</th>\n      <td>670</td>\n      <td>1999-10-26 13:20:33</td>\n    </tr>\n    <tr>\n      <th>670</th>\n      <td>671</td>\n      <td>2004-01-22 15:18:55</td>\n    </tr>\n  </tbody>\n</table>\n</div>"
     },
     "metadata": {},
     "execution_count": 4
    }
   ],
   "source": [
    "# группируем данные по userId и определяем max значения\n",
    "# переименовываем столбец и оставляем необходимые данные\n",
    "\n",
    "time_max = df_rating.groupby('userId').max()\n",
    "time_max.rename(columns={'time': 'max_time'}, inplace=True)\n",
    "time_max = time_max[['max_time']].reset_index()\n",
    "time_max.tail()"
   ]
  },
  {
   "cell_type": "code",
   "execution_count": 5,
   "metadata": {},
   "outputs": [
    {
     "output_type": "execute_result",
     "data": {
      "text/plain": "     userId            min_time\n666     667 1996-11-06 09:07:00\n667     668 2001-06-27 03:39:56\n668     669 2002-03-11 06:44:41\n669     670 1999-10-01 12:35:28\n670     671 2003-09-14 00:52:31",
      "text/html": "<div>\n<style scoped>\n    .dataframe tbody tr th:only-of-type {\n        vertical-align: middle;\n    }\n\n    .dataframe tbody tr th {\n        vertical-align: top;\n    }\n\n    .dataframe thead th {\n        text-align: right;\n    }\n</style>\n<table border=\"1\" class=\"dataframe\">\n  <thead>\n    <tr style=\"text-align: right;\">\n      <th></th>\n      <th>userId</th>\n      <th>min_time</th>\n    </tr>\n  </thead>\n  <tbody>\n    <tr>\n      <th>666</th>\n      <td>667</td>\n      <td>1996-11-06 09:07:00</td>\n    </tr>\n    <tr>\n      <th>667</th>\n      <td>668</td>\n      <td>2001-06-27 03:39:56</td>\n    </tr>\n    <tr>\n      <th>668</th>\n      <td>669</td>\n      <td>2002-03-11 06:44:41</td>\n    </tr>\n    <tr>\n      <th>669</th>\n      <td>670</td>\n      <td>1999-10-01 12:35:28</td>\n    </tr>\n    <tr>\n      <th>670</th>\n      <td>671</td>\n      <td>2003-09-14 00:52:31</td>\n    </tr>\n  </tbody>\n</table>\n</div>"
     },
     "metadata": {},
     "execution_count": 5
    }
   ],
   "source": [
    "# аналогично с min значениями\n",
    "\n",
    "time_min = df_rating.groupby('userId').min()\n",
    "time_min.rename(columns={'time': 'min_time'}, inplace=True)\n",
    "time_min = time_min[['min_time']].reset_index()\n",
    "time_min.tail()"
   ]
  },
  {
   "cell_type": "code",
   "execution_count": 6,
   "metadata": {},
   "outputs": [
    {
     "output_type": "execute_result",
     "data": {
      "text/plain": "     userId            max_time            min_time         time_life\n666     667 1996-11-06 09:23:54 1996-11-06 09:07:00   0 days 00:16:54\n667     668 2001-06-27 03:44:38 2001-06-27 03:39:56   0 days 00:04:42\n668     669 2002-03-11 06:56:06 2002-03-11 06:44:41   0 days 00:11:25\n669     670 1999-10-26 13:20:33 1999-10-01 12:35:28  25 days 00:45:05\n670     671 2004-01-22 15:18:55 2003-09-14 00:52:31 130 days 14:26:24",
      "text/html": "<div>\n<style scoped>\n    .dataframe tbody tr th:only-of-type {\n        vertical-align: middle;\n    }\n\n    .dataframe tbody tr th {\n        vertical-align: top;\n    }\n\n    .dataframe thead th {\n        text-align: right;\n    }\n</style>\n<table border=\"1\" class=\"dataframe\">\n  <thead>\n    <tr style=\"text-align: right;\">\n      <th></th>\n      <th>userId</th>\n      <th>max_time</th>\n      <th>min_time</th>\n      <th>time_life</th>\n    </tr>\n  </thead>\n  <tbody>\n    <tr>\n      <th>666</th>\n      <td>667</td>\n      <td>1996-11-06 09:23:54</td>\n      <td>1996-11-06 09:07:00</td>\n      <td>0 days 00:16:54</td>\n    </tr>\n    <tr>\n      <th>667</th>\n      <td>668</td>\n      <td>2001-06-27 03:44:38</td>\n      <td>2001-06-27 03:39:56</td>\n      <td>0 days 00:04:42</td>\n    </tr>\n    <tr>\n      <th>668</th>\n      <td>669</td>\n      <td>2002-03-11 06:56:06</td>\n      <td>2002-03-11 06:44:41</td>\n      <td>0 days 00:11:25</td>\n    </tr>\n    <tr>\n      <th>669</th>\n      <td>670</td>\n      <td>1999-10-26 13:20:33</td>\n      <td>1999-10-01 12:35:28</td>\n      <td>25 days 00:45:05</td>\n    </tr>\n    <tr>\n      <th>670</th>\n      <td>671</td>\n      <td>2004-01-22 15:18:55</td>\n      <td>2003-09-14 00:52:31</td>\n      <td>130 days 14:26:24</td>\n    </tr>\n  </tbody>\n</table>\n</div>"
     },
     "metadata": {},
     "execution_count": 6
    }
   ],
   "source": [
    "# объединяем две таблицы со временем\n",
    "# рассчитываем время жизни для каждого userId\n",
    "\n",
    "time = time_max.merge(time_min, how='left', on='userId')\n",
    "time['time_life'] = time['max_time'] - time['min_time']\n",
    "time.tail()"
   ]
  },
  {
   "cell_type": "code",
   "execution_count": 7,
   "metadata": {},
   "outputs": [
    {
     "output_type": "execute_result",
     "data": {
      "text/plain": "     userId  quantity\n666     667        68\n667     668        20\n668     669        37\n669     670        31\n670     671       115",
      "text/html": "<div>\n<style scoped>\n    .dataframe tbody tr th:only-of-type {\n        vertical-align: middle;\n    }\n\n    .dataframe tbody tr th {\n        vertical-align: top;\n    }\n\n    .dataframe thead th {\n        text-align: right;\n    }\n</style>\n<table border=\"1\" class=\"dataframe\">\n  <thead>\n    <tr style=\"text-align: right;\">\n      <th></th>\n      <th>userId</th>\n      <th>quantity</th>\n    </tr>\n  </thead>\n  <tbody>\n    <tr>\n      <th>666</th>\n      <td>667</td>\n      <td>68</td>\n    </tr>\n    <tr>\n      <th>667</th>\n      <td>668</td>\n      <td>20</td>\n    </tr>\n    <tr>\n      <th>668</th>\n      <td>669</td>\n      <td>37</td>\n    </tr>\n    <tr>\n      <th>669</th>\n      <td>670</td>\n      <td>31</td>\n    </tr>\n    <tr>\n      <th>670</th>\n      <td>671</td>\n      <td>115</td>\n    </tr>\n  </tbody>\n</table>\n</div>"
     },
     "metadata": {},
     "execution_count": 7
    }
   ],
   "source": [
    "# группируем данные по userId и определяем количество (оценок)\n",
    "# переименовываем столбец и оставляем необходимые данные\n",
    "\n",
    "rating = df_rating.groupby('userId').count()\n",
    "rating.rename(columns={'rating': 'quantity'}, inplace=True)\n",
    "rating = rating[['quantity']].reset_index()\n",
    "rating.tail()"
   ]
  },
  {
   "cell_type": "code",
   "execution_count": 8,
   "metadata": {},
   "outputs": [
    {
     "output_type": "execute_result",
     "data": {
      "text/plain": "            time_life  quantity\n666   0 days 00:16:54        68\n667   0 days 00:04:42        20\n668   0 days 00:11:25        37\n669  25 days 00:45:05        31\n670 130 days 14:26:24       115",
      "text/html": "<div>\n<style scoped>\n    .dataframe tbody tr th:only-of-type {\n        vertical-align: middle;\n    }\n\n    .dataframe tbody tr th {\n        vertical-align: top;\n    }\n\n    .dataframe thead th {\n        text-align: right;\n    }\n</style>\n<table border=\"1\" class=\"dataframe\">\n  <thead>\n    <tr style=\"text-align: right;\">\n      <th></th>\n      <th>time_life</th>\n      <th>quantity</th>\n    </tr>\n  </thead>\n  <tbody>\n    <tr>\n      <th>666</th>\n      <td>0 days 00:16:54</td>\n      <td>68</td>\n    </tr>\n    <tr>\n      <th>667</th>\n      <td>0 days 00:04:42</td>\n      <td>20</td>\n    </tr>\n    <tr>\n      <th>668</th>\n      <td>0 days 00:11:25</td>\n      <td>37</td>\n    </tr>\n    <tr>\n      <th>669</th>\n      <td>25 days 00:45:05</td>\n      <td>31</td>\n    </tr>\n    <tr>\n      <th>670</th>\n      <td>130 days 14:26:24</td>\n      <td>115</td>\n    </tr>\n  </tbody>\n</table>\n</div>"
     },
     "metadata": {},
     "execution_count": 8
    }
   ],
   "source": [
    "# объединяем таблицы со временем жизни и количеством оценок\n",
    "# оставляем необходимые для расчета данные\n",
    "\n",
    "result = time.merge(rating, how='left', on='userId')\n",
    "result = result[['time_life', 'quantity']]\n",
    "result.tail()"
   ]
  },
  {
   "cell_type": "code",
   "execution_count": 9,
   "metadata": {},
   "outputs": [
    {
     "output_type": "execute_result",
     "data": {
      "text/plain": "time_life    463 days 21:28:27.449612\ndtype: object"
     },
     "metadata": {},
     "execution_count": 9
    }
   ],
   "source": [
    "# рассчитываем среднее время жизни пользователей, поставивших больше 100 оценок\n",
    "\n",
    "result_mean = result.loc[result['quantity'] > 100].mean()[['time_life']]\n",
    "result_mean"
   ]
  },
  {
   "cell_type": "markdown",
   "metadata": {},
   "source": [
    "### 2-ой вариант"
   ]
  },
  {
   "cell_type": "code",
   "execution_count": 10,
   "metadata": {},
   "outputs": [
    {
     "output_type": "execute_result",
     "data": {
      "text/plain": "                      time                     rating\n                       max                 min  count\nuserId                                               \n667    1996-11-06 09:23:54 1996-11-06 09:07:00     68\n668    2001-06-27 03:44:38 2001-06-27 03:39:56     20\n669    2002-03-11 06:56:06 2002-03-11 06:44:41     37\n670    1999-10-26 13:20:33 1999-10-01 12:35:28     31\n671    2004-01-22 15:18:55 2003-09-14 00:52:31    115",
      "text/html": "<div>\n<style scoped>\n    .dataframe tbody tr th:only-of-type {\n        vertical-align: middle;\n    }\n\n    .dataframe tbody tr th {\n        vertical-align: top;\n    }\n\n    .dataframe thead tr th {\n        text-align: left;\n    }\n\n    .dataframe thead tr:last-of-type th {\n        text-align: right;\n    }\n</style>\n<table border=\"1\" class=\"dataframe\">\n  <thead>\n    <tr>\n      <th></th>\n      <th colspan=\"2\" halign=\"left\">time</th>\n      <th>rating</th>\n    </tr>\n    <tr>\n      <th></th>\n      <th>max</th>\n      <th>min</th>\n      <th>count</th>\n    </tr>\n    <tr>\n      <th>userId</th>\n      <th></th>\n      <th></th>\n      <th></th>\n    </tr>\n  </thead>\n  <tbody>\n    <tr>\n      <th>667</th>\n      <td>1996-11-06 09:23:54</td>\n      <td>1996-11-06 09:07:00</td>\n      <td>68</td>\n    </tr>\n    <tr>\n      <th>668</th>\n      <td>2001-06-27 03:44:38</td>\n      <td>2001-06-27 03:39:56</td>\n      <td>20</td>\n    </tr>\n    <tr>\n      <th>669</th>\n      <td>2002-03-11 06:56:06</td>\n      <td>2002-03-11 06:44:41</td>\n      <td>37</td>\n    </tr>\n    <tr>\n      <th>670</th>\n      <td>1999-10-26 13:20:33</td>\n      <td>1999-10-01 12:35:28</td>\n      <td>31</td>\n    </tr>\n    <tr>\n      <th>671</th>\n      <td>2004-01-22 15:18:55</td>\n      <td>2003-09-14 00:52:31</td>\n      <td>115</td>\n    </tr>\n  </tbody>\n</table>\n</div>"
     },
     "metadata": {},
     "execution_count": 10
    }
   ],
   "source": [
    "# задачу можно решить и за меньшее количество действий\n",
    "# после перевода времени в \"нормальный\" вид, выполняем следующее:\n",
    "\n",
    "df_agg = df_rating.groupby('userId').agg({'time': ['max', 'min'], 'rating': 'count'})\n",
    "df_agg.tail()"
   ]
  },
  {
   "cell_type": "code",
   "execution_count": 11,
   "metadata": {},
   "outputs": [
    {
     "output_type": "execute_result",
     "data": {
      "text/plain": "                      time                     rating         time_life\n                       max                 min  count                  \nuserId                                                                 \n667    1996-11-06 09:23:54 1996-11-06 09:07:00     68   0 days 00:16:54\n668    2001-06-27 03:44:38 2001-06-27 03:39:56     20   0 days 00:04:42\n669    2002-03-11 06:56:06 2002-03-11 06:44:41     37   0 days 00:11:25\n670    1999-10-26 13:20:33 1999-10-01 12:35:28     31  25 days 00:45:05\n671    2004-01-22 15:18:55 2003-09-14 00:52:31    115 130 days 14:26:24",
      "text/html": "<div>\n<style scoped>\n    .dataframe tbody tr th:only-of-type {\n        vertical-align: middle;\n    }\n\n    .dataframe tbody tr th {\n        vertical-align: top;\n    }\n\n    .dataframe thead tr th {\n        text-align: left;\n    }\n\n    .dataframe thead tr:last-of-type th {\n        text-align: right;\n    }\n</style>\n<table border=\"1\" class=\"dataframe\">\n  <thead>\n    <tr>\n      <th></th>\n      <th colspan=\"2\" halign=\"left\">time</th>\n      <th>rating</th>\n      <th>time_life</th>\n    </tr>\n    <tr>\n      <th></th>\n      <th>max</th>\n      <th>min</th>\n      <th>count</th>\n      <th></th>\n    </tr>\n    <tr>\n      <th>userId</th>\n      <th></th>\n      <th></th>\n      <th></th>\n      <th></th>\n    </tr>\n  </thead>\n  <tbody>\n    <tr>\n      <th>667</th>\n      <td>1996-11-06 09:23:54</td>\n      <td>1996-11-06 09:07:00</td>\n      <td>68</td>\n      <td>0 days 00:16:54</td>\n    </tr>\n    <tr>\n      <th>668</th>\n      <td>2001-06-27 03:44:38</td>\n      <td>2001-06-27 03:39:56</td>\n      <td>20</td>\n      <td>0 days 00:04:42</td>\n    </tr>\n    <tr>\n      <th>669</th>\n      <td>2002-03-11 06:56:06</td>\n      <td>2002-03-11 06:44:41</td>\n      <td>37</td>\n      <td>0 days 00:11:25</td>\n    </tr>\n    <tr>\n      <th>670</th>\n      <td>1999-10-26 13:20:33</td>\n      <td>1999-10-01 12:35:28</td>\n      <td>31</td>\n      <td>25 days 00:45:05</td>\n    </tr>\n    <tr>\n      <th>671</th>\n      <td>2004-01-22 15:18:55</td>\n      <td>2003-09-14 00:52:31</td>\n      <td>115</td>\n      <td>130 days 14:26:24</td>\n    </tr>\n  </tbody>\n</table>\n</div>"
     },
     "metadata": {},
     "execution_count": 11
    }
   ],
   "source": [
    "# определяем время жизни пользователей\n",
    "\n",
    "df_agg['time_life'] = df_agg['time']['max'] - df_agg['time']['min']\n",
    "df_agg.tail()"
   ]
  },
  {
   "cell_type": "code",
   "execution_count": 12,
   "metadata": {},
   "outputs": [
    {
     "output_type": "execute_result",
     "data": {
      "text/plain": "time_life      463 days 21:28:27.449612\ndtype: object"
     },
     "metadata": {},
     "execution_count": 12
    }
   ],
   "source": [
    "# рассчитываем среднее время жизни пользователей, поставивших больше 100 оценок\n",
    "\n",
    "df_agg.loc[df_agg['rating']['count'] > 100].mean()[['time_life']]"
   ]
  },
  {
   "cell_type": "markdown",
   "metadata": {},
   "source": [
    "## Задание 2\n",
    "\n",
    "Дана статистика услуг перевозок клиентов компании по типам:\n",
    "\n",
    "- rzd - железнодорожные перевозки\n",
    "- auto - автомобильные перевозки\n",
    "- air - воздушные перевозки\n",
    "- client_base - адреса клиентов\n",
    "\n",
    "Необходимо сформировать две таблицы:\n",
    "\n",
    "1) таблицу с тремя типами выручки для каждого client_id без указания адреса клиента;\n",
    "\n",
    "2) аналогичную таблицу по типам выручки с указанием адреса клиента.\n",
    "\n",
    "Обратите внимание, что в процессе объединения таблиц данные не должны теряться."
   ]
  },
  {
   "cell_type": "code",
   "execution_count": 13,
   "metadata": {},
   "outputs": [
    {
     "output_type": "execute_result",
     "data": {
      "text/plain": "   client_id  rzd_revenue\n0        111         1093\n1        112         2810\n2        113        10283\n3        114         5774\n4        115          981",
      "text/html": "<div>\n<style scoped>\n    .dataframe tbody tr th:only-of-type {\n        vertical-align: middle;\n    }\n\n    .dataframe tbody tr th {\n        vertical-align: top;\n    }\n\n    .dataframe thead th {\n        text-align: right;\n    }\n</style>\n<table border=\"1\" class=\"dataframe\">\n  <thead>\n    <tr style=\"text-align: right;\">\n      <th></th>\n      <th>client_id</th>\n      <th>rzd_revenue</th>\n    </tr>\n  </thead>\n  <tbody>\n    <tr>\n      <th>0</th>\n      <td>111</td>\n      <td>1093</td>\n    </tr>\n    <tr>\n      <th>1</th>\n      <td>112</td>\n      <td>2810</td>\n    </tr>\n    <tr>\n      <th>2</th>\n      <td>113</td>\n      <td>10283</td>\n    </tr>\n    <tr>\n      <th>3</th>\n      <td>114</td>\n      <td>5774</td>\n    </tr>\n    <tr>\n      <th>4</th>\n      <td>115</td>\n      <td>981</td>\n    </tr>\n  </tbody>\n</table>\n</div>"
     },
     "metadata": {},
     "execution_count": 13
    }
   ],
   "source": [
    "rzd = pd.DataFrame(\n",
    "    {\n",
    "        'client_id': [111, 112, 113, 114, 115],\n",
    "        'rzd_revenue': [1093, 2810, 10283, 5774, 981]\n",
    "    }\n",
    ")\n",
    "rzd"
   ]
  },
  {
   "cell_type": "code",
   "execution_count": 14,
   "metadata": {},
   "outputs": [
    {
     "output_type": "execute_result",
     "data": {
      "text/plain": "   client_id  auto_revenue\n0        113         57483\n1        114            83\n2        115           912\n3        116          4834\n4        117            98",
      "text/html": "<div>\n<style scoped>\n    .dataframe tbody tr th:only-of-type {\n        vertical-align: middle;\n    }\n\n    .dataframe tbody tr th {\n        vertical-align: top;\n    }\n\n    .dataframe thead th {\n        text-align: right;\n    }\n</style>\n<table border=\"1\" class=\"dataframe\">\n  <thead>\n    <tr style=\"text-align: right;\">\n      <th></th>\n      <th>client_id</th>\n      <th>auto_revenue</th>\n    </tr>\n  </thead>\n  <tbody>\n    <tr>\n      <th>0</th>\n      <td>113</td>\n      <td>57483</td>\n    </tr>\n    <tr>\n      <th>1</th>\n      <td>114</td>\n      <td>83</td>\n    </tr>\n    <tr>\n      <th>2</th>\n      <td>115</td>\n      <td>912</td>\n    </tr>\n    <tr>\n      <th>3</th>\n      <td>116</td>\n      <td>4834</td>\n    </tr>\n    <tr>\n      <th>4</th>\n      <td>117</td>\n      <td>98</td>\n    </tr>\n  </tbody>\n</table>\n</div>"
     },
     "metadata": {},
     "execution_count": 14
    }
   ],
   "source": [
    "auto = pd.DataFrame(\n",
    "    {\n",
    "        'client_id': [113, 114, 115, 116, 117],\n",
    "        'auto_revenue': [57483, 83, 912, 4834, 98]\n",
    "    }\n",
    ")\n",
    "auto"
   ]
  },
  {
   "cell_type": "code",
   "execution_count": 15,
   "metadata": {},
   "outputs": [
    {
     "output_type": "execute_result",
     "data": {
      "text/plain": "   client_id  air_revenue\n0        115           81\n1        116            4\n2        117           13\n3        118          173",
      "text/html": "<div>\n<style scoped>\n    .dataframe tbody tr th:only-of-type {\n        vertical-align: middle;\n    }\n\n    .dataframe tbody tr th {\n        vertical-align: top;\n    }\n\n    .dataframe thead th {\n        text-align: right;\n    }\n</style>\n<table border=\"1\" class=\"dataframe\">\n  <thead>\n    <tr style=\"text-align: right;\">\n      <th></th>\n      <th>client_id</th>\n      <th>air_revenue</th>\n    </tr>\n  </thead>\n  <tbody>\n    <tr>\n      <th>0</th>\n      <td>115</td>\n      <td>81</td>\n    </tr>\n    <tr>\n      <th>1</th>\n      <td>116</td>\n      <td>4</td>\n    </tr>\n    <tr>\n      <th>2</th>\n      <td>117</td>\n      <td>13</td>\n    </tr>\n    <tr>\n      <th>3</th>\n      <td>118</td>\n      <td>173</td>\n    </tr>\n  </tbody>\n</table>\n</div>"
     },
     "metadata": {},
     "execution_count": 15
    }
   ],
   "source": [
    "air = pd.DataFrame(\n",
    "    {\n",
    "        'client_id': [115, 116, 117, 118],\n",
    "        'air_revenue': [81, 4, 13, 173]\n",
    "    }\n",
    ")\n",
    "air"
   ]
  },
  {
   "cell_type": "code",
   "execution_count": 16,
   "metadata": {},
   "outputs": [
    {
     "output_type": "execute_result",
     "data": {
      "text/plain": "   client_id          address\n0        111  Комсомольская 4\n1        112   Энтузиастов 8а\n2        113  Левобережная 1а\n3        114          Мира 14\n4        115        ЗЖБИиДК 1\n5        116    Строителей 18\n6        117  Панфиловская 33\n7        118     Мастеркова 4",
      "text/html": "<div>\n<style scoped>\n    .dataframe tbody tr th:only-of-type {\n        vertical-align: middle;\n    }\n\n    .dataframe tbody tr th {\n        vertical-align: top;\n    }\n\n    .dataframe thead th {\n        text-align: right;\n    }\n</style>\n<table border=\"1\" class=\"dataframe\">\n  <thead>\n    <tr style=\"text-align: right;\">\n      <th></th>\n      <th>client_id</th>\n      <th>address</th>\n    </tr>\n  </thead>\n  <tbody>\n    <tr>\n      <th>0</th>\n      <td>111</td>\n      <td>Комсомольская 4</td>\n    </tr>\n    <tr>\n      <th>1</th>\n      <td>112</td>\n      <td>Энтузиастов 8а</td>\n    </tr>\n    <tr>\n      <th>2</th>\n      <td>113</td>\n      <td>Левобережная 1а</td>\n    </tr>\n    <tr>\n      <th>3</th>\n      <td>114</td>\n      <td>Мира 14</td>\n    </tr>\n    <tr>\n      <th>4</th>\n      <td>115</td>\n      <td>ЗЖБИиДК 1</td>\n    </tr>\n    <tr>\n      <th>5</th>\n      <td>116</td>\n      <td>Строителей 18</td>\n    </tr>\n    <tr>\n      <th>6</th>\n      <td>117</td>\n      <td>Панфиловская 33</td>\n    </tr>\n    <tr>\n      <th>7</th>\n      <td>118</td>\n      <td>Мастеркова 4</td>\n    </tr>\n  </tbody>\n</table>\n</div>"
     },
     "metadata": {},
     "execution_count": 16
    }
   ],
   "source": [
    "client_base = pd.DataFrame(\n",
    "    {\n",
    "        'client_id': [111, 112, 113, 114, 115, 116, 117, 118],\n",
    "        'address': ['Комсомольская 4', 'Энтузиастов 8а', 'Левобережная 1а', 'Мира 14', 'ЗЖБИиДК 1', \n",
    "                    'Строителей 18', 'Панфиловская 33', 'Мастеркова 4']\n",
    "    }\n",
    ")\n",
    "client_base"
   ]
  },
  {
   "cell_type": "code",
   "execution_count": 17,
   "metadata": {},
   "outputs": [
    {
     "output_type": "execute_result",
     "data": {
      "text/plain": "   client_id          address  rzd_revenue  auto_revenue  air_revenue\n0        111  Комсомольская 4       1093.0           0.0          0.0\n1        112   Энтузиастов 8а       2810.0           0.0          0.0\n2        113  Левобережная 1а      10283.0       57483.0          0.0\n3        114          Мира 14       5774.0          83.0          0.0\n4        115        ЗЖБИиДК 1        981.0         912.0         81.0\n5        116    Строителей 18          0.0        4834.0          4.0\n6        117  Панфиловская 33          0.0          98.0         13.0\n7        118     Мастеркова 4          0.0           0.0        173.0",
      "text/html": "<div>\n<style scoped>\n    .dataframe tbody tr th:only-of-type {\n        vertical-align: middle;\n    }\n\n    .dataframe tbody tr th {\n        vertical-align: top;\n    }\n\n    .dataframe thead th {\n        text-align: right;\n    }\n</style>\n<table border=\"1\" class=\"dataframe\">\n  <thead>\n    <tr style=\"text-align: right;\">\n      <th></th>\n      <th>client_id</th>\n      <th>address</th>\n      <th>rzd_revenue</th>\n      <th>auto_revenue</th>\n      <th>air_revenue</th>\n    </tr>\n  </thead>\n  <tbody>\n    <tr>\n      <th>0</th>\n      <td>111</td>\n      <td>Комсомольская 4</td>\n      <td>1093.0</td>\n      <td>0.0</td>\n      <td>0.0</td>\n    </tr>\n    <tr>\n      <th>1</th>\n      <td>112</td>\n      <td>Энтузиастов 8а</td>\n      <td>2810.0</td>\n      <td>0.0</td>\n      <td>0.0</td>\n    </tr>\n    <tr>\n      <th>2</th>\n      <td>113</td>\n      <td>Левобережная 1а</td>\n      <td>10283.0</td>\n      <td>57483.0</td>\n      <td>0.0</td>\n    </tr>\n    <tr>\n      <th>3</th>\n      <td>114</td>\n      <td>Мира 14</td>\n      <td>5774.0</td>\n      <td>83.0</td>\n      <td>0.0</td>\n    </tr>\n    <tr>\n      <th>4</th>\n      <td>115</td>\n      <td>ЗЖБИиДК 1</td>\n      <td>981.0</td>\n      <td>912.0</td>\n      <td>81.0</td>\n    </tr>\n    <tr>\n      <th>5</th>\n      <td>116</td>\n      <td>Строителей 18</td>\n      <td>0.0</td>\n      <td>4834.0</td>\n      <td>4.0</td>\n    </tr>\n    <tr>\n      <th>6</th>\n      <td>117</td>\n      <td>Панфиловская 33</td>\n      <td>0.0</td>\n      <td>98.0</td>\n      <td>13.0</td>\n    </tr>\n    <tr>\n      <th>7</th>\n      <td>118</td>\n      <td>Мастеркова 4</td>\n      <td>0.0</td>\n      <td>0.0</td>\n      <td>173.0</td>\n    </tr>\n  </tbody>\n</table>\n</div>"
     },
     "metadata": {},
     "execution_count": 17
    }
   ],
   "source": [
    "# объединяем всё - это одна итоговая таблица\n",
    "\n",
    "base = (client_base\n",
    "        .merge(rzd, how='left', on='client_id')\n",
    "        .merge(auto, how='left', on='client_id')\n",
    "        .merge(air, how='left', on='client_id')\n",
    "        ).fillna(0)\n",
    "base"
   ]
  },
  {
   "cell_type": "code",
   "execution_count": 18,
   "metadata": {},
   "outputs": [
    {
     "output_type": "execute_result",
     "data": {
      "text/plain": "   client_id  rzd_revenue  auto_revenue  air_revenue\n0        111       1093.0           0.0          0.0\n1        112       2810.0           0.0          0.0\n2        113      10283.0       57483.0          0.0\n3        114       5774.0          83.0          0.0\n4        115        981.0         912.0         81.0\n5        116          0.0        4834.0          4.0\n6        117          0.0          98.0         13.0\n7        118          0.0           0.0        173.0",
      "text/html": "<div>\n<style scoped>\n    .dataframe tbody tr th:only-of-type {\n        vertical-align: middle;\n    }\n\n    .dataframe tbody tr th {\n        vertical-align: top;\n    }\n\n    .dataframe thead th {\n        text-align: right;\n    }\n</style>\n<table border=\"1\" class=\"dataframe\">\n  <thead>\n    <tr style=\"text-align: right;\">\n      <th></th>\n      <th>client_id</th>\n      <th>rzd_revenue</th>\n      <th>auto_revenue</th>\n      <th>air_revenue</th>\n    </tr>\n  </thead>\n  <tbody>\n    <tr>\n      <th>0</th>\n      <td>111</td>\n      <td>1093.0</td>\n      <td>0.0</td>\n      <td>0.0</td>\n    </tr>\n    <tr>\n      <th>1</th>\n      <td>112</td>\n      <td>2810.0</td>\n      <td>0.0</td>\n      <td>0.0</td>\n    </tr>\n    <tr>\n      <th>2</th>\n      <td>113</td>\n      <td>10283.0</td>\n      <td>57483.0</td>\n      <td>0.0</td>\n    </tr>\n    <tr>\n      <th>3</th>\n      <td>114</td>\n      <td>5774.0</td>\n      <td>83.0</td>\n      <td>0.0</td>\n    </tr>\n    <tr>\n      <th>4</th>\n      <td>115</td>\n      <td>981.0</td>\n      <td>912.0</td>\n      <td>81.0</td>\n    </tr>\n    <tr>\n      <th>5</th>\n      <td>116</td>\n      <td>0.0</td>\n      <td>4834.0</td>\n      <td>4.0</td>\n    </tr>\n    <tr>\n      <th>6</th>\n      <td>117</td>\n      <td>0.0</td>\n      <td>98.0</td>\n      <td>13.0</td>\n    </tr>\n    <tr>\n      <th>7</th>\n      <td>118</td>\n      <td>0.0</td>\n      <td>0.0</td>\n      <td>173.0</td>\n    </tr>\n  </tbody>\n</table>\n</div>"
     },
     "metadata": {},
     "execution_count": 18
    }
   ],
   "source": [
    "# вторая итоговая таблица\n",
    "\n",
    "base_1 = base.drop(columns='address')\n",
    "base_1"
   ]
  },
  {
   "cell_type": "markdown",
   "metadata": {},
   "source": [
    "## Задание 3\n",
    "\n",
    "В задаче сквозной аналитики вам предоставили данные по местоположению пользователей. Т. е. для каждого user_id известна последовательность координат (широта/долгота), когда они требовались приложению для полноценной работы.\n",
    "\n",
    "Как бы вы добавили эти сведения в таблицу визитов и покупок? Для составления ответа можно использовать вопросы:\n",
    "\n",
    "1) У каждого пользователя известен набор координат. А для связывания с визитом или фактом покупки скорее всего потребуется одно-два числа. Как их получить?\n",
    "\n",
    "2) Наборы координат одного и того же пользователя могут быть значительно удалены друг от друга. Как это отразится на вопросе расчетах пункта 1?\n",
    "\n",
    "3) Какие дополнительные признаки можно получить из координат? Ведь это просто числа, которые сами по себе мало что дают."
   ]
  },
  {
   "cell_type": "markdown",
   "metadata": {},
   "source": [
    "#### Ответ \n",
    "\n",
    "1) координаты (широта/долгота) могут быть записаны в виде: (55,755831°, 37,617673°), или (N55.755831°, E37.617673°), или (55°45.35′N, 37°37.06′E), или (55°45′20.9916″N, 37°37′3.6228″E). В любом случае, для получения одного-двух чисел можно использовать метод str.contains + соответствующее регулярное выражение (предварительно сделать import re).\n",
    "\n",
    "2) пользователь может совершать покупки в любой точке земного шара и, соответственно, наборы координат будут по разному удалены друг от друга. Данный факт никак не отразится на расчетах пункта 1), просто для каждого user_id будет несколько пар \"вариантов\". Вопрос в формате представления всех исходных данных, а также в формулировке задачи - что конкретно требуется получить.    \n",
    "\n",
    "3) координаты (широта/долгота) - это определенная точка на земной поверхности. Пользователь, как правило, совершает покупки в районе своего местожительства, или рядом с работой, или в супермаркетах по дороге на \"приусадебное хозяйство\". По частоте совершаемых покупок в том или ином месте, можно судить о предпочтениях пользователя, как по месту, так и по категории покупок. А уже на основе этой информации можно, например, формировать пул предложений по скидкам на эти и сопутствующие товары в конкретной географической точке (или рядом с ней), + делать это с учетом дней недели (рабочие / выходные) и т.д.\n",
    "\n",
    "В целом, формат использования координат зависит от бизнес-задачи: надо ли получить распределение по странам, либо необходима группировка по городам, либо требуется более детальная информация по районам / улицам."
   ]
  }
 ],
 "metadata": {
  "language_info": {
   "codemirror_mode": {
    "name": "ipython",
    "version": 3
   },
   "file_extension": ".py",
   "mimetype": "text/x-python",
   "name": "python",
   "nbconvert_exporter": "python",
   "pygments_lexer": "ipython3",
   "version": "3.7.2-final"
  },
  "orig_nbformat": 2,
  "kernelspec": {
   "name": "python37264bit756f231e437a4db2b965934ccae74f70",
   "display_name": "Python 3.7.2 64-bit"
  }
 },
 "nbformat": 4,
 "nbformat_minor": 2
}