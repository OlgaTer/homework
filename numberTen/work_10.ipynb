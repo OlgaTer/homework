{
 "cells": [
  {
   "cell_type": "markdown",
   "metadata": {},
   "source": [
    "### Задание 1\n",
    "\n",
    "Скачайте с сайта https://grouplens.org/datasets/movielens/ датасет любого размера. Определите какому фильму было выставлено больше всего оценок 5.0."
   ]
  },
  {
   "cell_type": "code",
   "execution_count": 11,
   "metadata": {},
   "outputs": [],
   "source": [
    "import pandas as pd"
   ]
  },
  {
   "cell_type": "code",
   "execution_count": 2,
   "metadata": {
    "tags": []
   },
   "outputs": [
    {
     "output_type": "stream",
     "name": "stdout",
     "text": "--2020-06-29 16:26:35--  http://files.grouplens.org/datasets/movielens/ml-latest-small.zip\nРаспознаётся files.grouplens.org (files.grouplens.org)… 128.101.65.152\nПодключение к files.grouplens.org (files.grouplens.org)|128.101.65.152|:80...соединение установлено.\nHTTP-запрос отправлен. Ожидание ответа…200 OK\nДлина: 978202 (955K) [application/zip]\nСохранение в: «ml-latest-small.zip»\n\nml-latest-small.zip 100%[===================>] 955,28K   592KB/s    за 1,6s    \n\n2020-06-29 16:26:37 (592 KB/s) - «ml-latest-small.zip» сохранён [978202/978202]\n\n"
    }
   ],
   "source": [
    "# датасеты хранятся в zip архивах, скачиваем выбранный\n",
    "\n",
    "!wget http://files.grouplens.org/datasets/movielens/ml-latest-small.zip"
   ]
  },
  {
   "cell_type": "code",
   "execution_count": 3,
   "metadata": {
    "tags": []
   },
   "outputs": [
    {
     "output_type": "stream",
     "name": "stdout",
     "text": "Archive:  ml-latest-small.zip\n   creating: ml-latest-small/\n  inflating: ml-latest-small/links.csv  \n  inflating: ml-latest-small/tags.csv  \n  inflating: ml-latest-small/ratings.csv\n  inflating: ml-latest-small/README.txt  \n  inflating: ml-latest-small/movies.csv  \n"
    }
   ],
   "source": [
    "# делаем разархивацию\n",
    "\n",
    "!unzip ml-latest-small.zip"
   ]
  },
  {
   "cell_type": "code",
   "execution_count": 4,
   "metadata": {},
   "outputs": [
    {
     "output_type": "execute_result",
     "data": {
      "text/plain": "   userId  movieId  rating  timestamp\n0       1        1     4.0  964982703\n1       1        3     4.0  964981247\n2       1        6     4.0  964982224\n3       1       47     5.0  964983815\n4       1       50     5.0  964982931",
      "text/html": "<div>\n<style scoped>\n    .dataframe tbody tr th:only-of-type {\n        vertical-align: middle;\n    }\n\n    .dataframe tbody tr th {\n        vertical-align: top;\n    }\n\n    .dataframe thead th {\n        text-align: right;\n    }\n</style>\n<table border=\"1\" class=\"dataframe\">\n  <thead>\n    <tr style=\"text-align: right;\">\n      <th></th>\n      <th>userId</th>\n      <th>movieId</th>\n      <th>rating</th>\n      <th>timestamp</th>\n    </tr>\n  </thead>\n  <tbody>\n    <tr>\n      <th>0</th>\n      <td>1</td>\n      <td>1</td>\n      <td>4.0</td>\n      <td>964982703</td>\n    </tr>\n    <tr>\n      <th>1</th>\n      <td>1</td>\n      <td>3</td>\n      <td>4.0</td>\n      <td>964981247</td>\n    </tr>\n    <tr>\n      <th>2</th>\n      <td>1</td>\n      <td>6</td>\n      <td>4.0</td>\n      <td>964982224</td>\n    </tr>\n    <tr>\n      <th>3</th>\n      <td>1</td>\n      <td>47</td>\n      <td>5.0</td>\n      <td>964983815</td>\n    </tr>\n    <tr>\n      <th>4</th>\n      <td>1</td>\n      <td>50</td>\n      <td>5.0</td>\n      <td>964982931</td>\n    </tr>\n  </tbody>\n</table>\n</div>"
     },
     "metadata": {},
     "execution_count": 4
    }
   ],
   "source": [
    "# читаем файл с оценками\n",
    "\n",
    "data_rating = pd.read_csv('ml-latest-small/ratings.csv')\n",
    "data_rating.head()"
   ]
  },
  {
   "cell_type": "code",
   "execution_count": 5,
   "metadata": {
    "tags": []
   },
   "outputs": [
    {
     "output_type": "stream",
     "name": "stdout",
     "text": "<class 'pandas.core.frame.DataFrame'>\nRangeIndex: 100836 entries, 0 to 100835\nData columns (total 4 columns):\n #   Column     Non-Null Count   Dtype  \n---  ------     --------------   -----  \n 0   userId     100836 non-null  int64  \n 1   movieId    100836 non-null  int64  \n 2   rating     100836 non-null  float64\n 3   timestamp  100836 non-null  int64  \ndtypes: float64(1), int64(3)\nmemory usage: 3.1 MB\n"
    }
   ],
   "source": [
    "# смотрим на качество данных\n",
    "\n",
    "data_rating.info()"
   ]
  },
  {
   "cell_type": "code",
   "execution_count": 7,
   "metadata": {},
   "outputs": [
    {
     "output_type": "execute_result",
     "data": {
      "text/plain": "        userId  movieId  rating   timestamp\n3            1       47     5.0   964983815\n4            1       50     5.0   964982931\n6            1      101     5.0   964980868\n8            1      151     5.0   964984041\n9            1      157     5.0   964984100\n...        ...      ...     ...         ...\n100814     610   158238     5.0  1479545219\n100829     610   164179     5.0  1493845631\n100832     610   168248     5.0  1493850091\n100833     610   168250     5.0  1494273047\n100834     610   168252     5.0  1493846352\n\n[13211 rows x 4 columns]",
      "text/html": "<div>\n<style scoped>\n    .dataframe tbody tr th:only-of-type {\n        vertical-align: middle;\n    }\n\n    .dataframe tbody tr th {\n        vertical-align: top;\n    }\n\n    .dataframe thead th {\n        text-align: right;\n    }\n</style>\n<table border=\"1\" class=\"dataframe\">\n  <thead>\n    <tr style=\"text-align: right;\">\n      <th></th>\n      <th>userId</th>\n      <th>movieId</th>\n      <th>rating</th>\n      <th>timestamp</th>\n    </tr>\n  </thead>\n  <tbody>\n    <tr>\n      <th>3</th>\n      <td>1</td>\n      <td>47</td>\n      <td>5.0</td>\n      <td>964983815</td>\n    </tr>\n    <tr>\n      <th>4</th>\n      <td>1</td>\n      <td>50</td>\n      <td>5.0</td>\n      <td>964982931</td>\n    </tr>\n    <tr>\n      <th>6</th>\n      <td>1</td>\n      <td>101</td>\n      <td>5.0</td>\n      <td>964980868</td>\n    </tr>\n    <tr>\n      <th>8</th>\n      <td>1</td>\n      <td>151</td>\n      <td>5.0</td>\n      <td>964984041</td>\n    </tr>\n    <tr>\n      <th>9</th>\n      <td>1</td>\n      <td>157</td>\n      <td>5.0</td>\n      <td>964984100</td>\n    </tr>\n    <tr>\n      <th>...</th>\n      <td>...</td>\n      <td>...</td>\n      <td>...</td>\n      <td>...</td>\n    </tr>\n    <tr>\n      <th>100814</th>\n      <td>610</td>\n      <td>158238</td>\n      <td>5.0</td>\n      <td>1479545219</td>\n    </tr>\n    <tr>\n      <th>100829</th>\n      <td>610</td>\n      <td>164179</td>\n      <td>5.0</td>\n      <td>1493845631</td>\n    </tr>\n    <tr>\n      <th>100832</th>\n      <td>610</td>\n      <td>168248</td>\n      <td>5.0</td>\n      <td>1493850091</td>\n    </tr>\n    <tr>\n      <th>100833</th>\n      <td>610</td>\n      <td>168250</td>\n      <td>5.0</td>\n      <td>1494273047</td>\n    </tr>\n    <tr>\n      <th>100834</th>\n      <td>610</td>\n      <td>168252</td>\n      <td>5.0</td>\n      <td>1493846352</td>\n    </tr>\n  </tbody>\n</table>\n<p>13211 rows × 4 columns</p>\n</div>"
     },
     "metadata": {},
     "execution_count": 7
    }
   ],
   "source": [
    "# оставляем строки с рейтингом = 5\n",
    "\n",
    "data_rating_five = data_rating.query('rating == 5.0')\n",
    "data_rating_five"
   ]
  },
  {
   "cell_type": "code",
   "execution_count": 8,
   "metadata": {},
   "outputs": [
    {
     "output_type": "execute_result",
     "data": {
      "text/plain": "318    153\nName: movieId, dtype: int64"
     },
     "metadata": {},
     "execution_count": 8
    }
   ],
   "source": [
    "# считаем сколько \"5\" получил каждый фильм\n",
    "# метод value_counts() выводит значения в порядке убывания\n",
    "# для решения задачи берем первую строку\n",
    "\n",
    "data_rating_five['movieId'].value_counts().head(1)"
   ]
  },
  {
   "cell_type": "code",
   "execution_count": 9,
   "metadata": {},
   "outputs": [
    {
     "output_type": "execute_result",
     "data": {
      "text/plain": "   movieId                               title  \\\n0        1                    Toy Story (1995)   \n1        2                      Jumanji (1995)   \n2        3             Grumpier Old Men (1995)   \n3        4            Waiting to Exhale (1995)   \n4        5  Father of the Bride Part II (1995)   \n\n                                        genres  \n0  Adventure|Animation|Children|Comedy|Fantasy  \n1                   Adventure|Children|Fantasy  \n2                               Comedy|Romance  \n3                         Comedy|Drama|Romance  \n4                                       Comedy  ",
      "text/html": "<div>\n<style scoped>\n    .dataframe tbody tr th:only-of-type {\n        vertical-align: middle;\n    }\n\n    .dataframe tbody tr th {\n        vertical-align: top;\n    }\n\n    .dataframe thead th {\n        text-align: right;\n    }\n</style>\n<table border=\"1\" class=\"dataframe\">\n  <thead>\n    <tr style=\"text-align: right;\">\n      <th></th>\n      <th>movieId</th>\n      <th>title</th>\n      <th>genres</th>\n    </tr>\n  </thead>\n  <tbody>\n    <tr>\n      <th>0</th>\n      <td>1</td>\n      <td>Toy Story (1995)</td>\n      <td>Adventure|Animation|Children|Comedy|Fantasy</td>\n    </tr>\n    <tr>\n      <th>1</th>\n      <td>2</td>\n      <td>Jumanji (1995)</td>\n      <td>Adventure|Children|Fantasy</td>\n    </tr>\n    <tr>\n      <th>2</th>\n      <td>3</td>\n      <td>Grumpier Old Men (1995)</td>\n      <td>Comedy|Romance</td>\n    </tr>\n    <tr>\n      <th>3</th>\n      <td>4</td>\n      <td>Waiting to Exhale (1995)</td>\n      <td>Comedy|Drama|Romance</td>\n    </tr>\n    <tr>\n      <th>4</th>\n      <td>5</td>\n      <td>Father of the Bride Part II (1995)</td>\n      <td>Comedy</td>\n    </tr>\n  </tbody>\n</table>\n</div>"
     },
     "metadata": {},
     "execution_count": 9
    }
   ],
   "source": [
    "# читаем файл с фильмами для поиска нужного Id\n",
    "\n",
    "data_movies = pd.read_csv('ml-latest-small/movies.csv')\n",
    "data_movies.head()"
   ]
  },
  {
   "cell_type": "code",
   "execution_count": 10,
   "metadata": {},
   "outputs": [
    {
     "output_type": "execute_result",
     "data": {
      "text/plain": "     movieId                             title       genres\n277      318  Shawshank Redemption, The (1994)  Crime|Drama",
      "text/html": "<div>\n<style scoped>\n    .dataframe tbody tr th:only-of-type {\n        vertical-align: middle;\n    }\n\n    .dataframe tbody tr th {\n        vertical-align: top;\n    }\n\n    .dataframe thead th {\n        text-align: right;\n    }\n</style>\n<table border=\"1\" class=\"dataframe\">\n  <thead>\n    <tr style=\"text-align: right;\">\n      <th></th>\n      <th>movieId</th>\n      <th>title</th>\n      <th>genres</th>\n    </tr>\n  </thead>\n  <tbody>\n    <tr>\n      <th>277</th>\n      <td>318</td>\n      <td>Shawshank Redemption, The (1994)</td>\n      <td>Crime|Drama</td>\n    </tr>\n  </tbody>\n</table>\n</div>"
     },
     "metadata": {},
     "execution_count": 10
    }
   ],
   "source": [
    "# определяем название фильма с Id = 318\n",
    "\n",
    "data_movies.query('movieId == 318')"
   ]
  },
  {
   "cell_type": "markdown",
   "metadata": {},
   "source": [
    "#### В скаченном датасете фильм \"Побег из Шоушенка\" набрал наибольшее количество оценок 5.0"
   ]
  },
  {
   "cell_type": "markdown",
   "metadata": {},
   "source": [
    "### Задание 2\n",
    "\n",
    "По данным файла power.csv посчитайте суммарное потребление стран Прибалтики (Латвия, Литва и Эстония) категорий 4, 12 и 21 за период с 2005 по 2010 года. Не учитывайте в расчетах отрицательные значения quantity."
   ]
  },
  {
   "cell_type": "code",
   "execution_count": 12,
   "metadata": {},
   "outputs": [
    {
     "output_type": "execute_result",
     "data": {
      "text/plain": "   country  year  quantity  category\n0  Austria  1996       5.0         1\n1  Austria  1995      17.0         1\n2  Belgium  2014       0.0         1\n3  Belgium  2013       0.0         1\n4  Belgium  2012      35.0         1",
      "text/html": "<div>\n<style scoped>\n    .dataframe tbody tr th:only-of-type {\n        vertical-align: middle;\n    }\n\n    .dataframe tbody tr th {\n        vertical-align: top;\n    }\n\n    .dataframe thead th {\n        text-align: right;\n    }\n</style>\n<table border=\"1\" class=\"dataframe\">\n  <thead>\n    <tr style=\"text-align: right;\">\n      <th></th>\n      <th>country</th>\n      <th>year</th>\n      <th>quantity</th>\n      <th>category</th>\n    </tr>\n  </thead>\n  <tbody>\n    <tr>\n      <th>0</th>\n      <td>Austria</td>\n      <td>1996</td>\n      <td>5.0</td>\n      <td>1</td>\n    </tr>\n    <tr>\n      <th>1</th>\n      <td>Austria</td>\n      <td>1995</td>\n      <td>17.0</td>\n      <td>1</td>\n    </tr>\n    <tr>\n      <th>2</th>\n      <td>Belgium</td>\n      <td>2014</td>\n      <td>0.0</td>\n      <td>1</td>\n    </tr>\n    <tr>\n      <th>3</th>\n      <td>Belgium</td>\n      <td>2013</td>\n      <td>0.0</td>\n      <td>1</td>\n    </tr>\n    <tr>\n      <th>4</th>\n      <td>Belgium</td>\n      <td>2012</td>\n      <td>35.0</td>\n      <td>1</td>\n    </tr>\n  </tbody>\n</table>\n</div>"
     },
     "metadata": {},
     "execution_count": 12
    }
   ],
   "source": [
    "# читаем файл с данными\n",
    "\n",
    "data_power = pd.read_csv('power.csv')\n",
    "data_power.head()"
   ]
  },
  {
   "cell_type": "code",
   "execution_count": 13,
   "metadata": {
    "tags": []
   },
   "outputs": [
    {
     "output_type": "stream",
     "name": "stdout",
     "text": "<class 'pandas.core.frame.DataFrame'>\nRangeIndex: 1189482 entries, 0 to 1189481\nData columns (total 4 columns):\n #   Column    Non-Null Count    Dtype  \n---  ------    --------------    -----  \n 0   country   1189482 non-null  object \n 1   year      1189482 non-null  int64  \n 2   quantity  1189482 non-null  float64\n 3   category  1189482 non-null  int64  \ndtypes: float64(1), int64(2), object(1)\nmemory usage: 36.3+ MB\n"
    }
   ],
   "source": [
    "# смотрим на качество данных\n",
    "\n",
    "data_power.info()"
   ]
  },
  {
   "cell_type": "code",
   "execution_count": 14,
   "metadata": {},
   "outputs": [
    {
     "output_type": "execute_result",
     "data": {
      "text/plain": "array(['Lithuania', 'Latvia', 'Estonia'], dtype=object)"
     },
     "metadata": {},
     "execution_count": 14
    }
   ],
   "source": [
    "# выбираем страны Прибалтики\n",
    "\n",
    "data_p = data_power[ (data_power['country'] == 'Lithuania') | (data_power['country'] == 'Latvia') | (data_power['country'] == 'Estonia') ]\n",
    "\n",
    "data_p.country.unique()"
   ]
  },
  {
   "cell_type": "code",
   "execution_count": 15,
   "metadata": {},
   "outputs": [
    {
     "output_type": "execute_result",
     "data": {
      "text/plain": "          country  year  quantity  category\n10617     Estonia  2008       1.0         4\n10620     Estonia  2005       1.0         4\n10621     Estonia  2004       1.0         4\n10622     Estonia  2003       1.0         4\n10624     Estonia  2001       1.0         4\n...           ...   ...       ...       ...\n253983  Lithuania  2008      54.0        21\n253984  Lithuania  2007      47.0        21\n253985  Lithuania  2006      31.0        21\n253986  Lithuania  2005       1.0        21\n253987  Lithuania  2004       1.0        21\n\n[1044 rows x 4 columns]",
      "text/html": "<div>\n<style scoped>\n    .dataframe tbody tr th:only-of-type {\n        vertical-align: middle;\n    }\n\n    .dataframe tbody tr th {\n        vertical-align: top;\n    }\n\n    .dataframe thead th {\n        text-align: right;\n    }\n</style>\n<table border=\"1\" class=\"dataframe\">\n  <thead>\n    <tr style=\"text-align: right;\">\n      <th></th>\n      <th>country</th>\n      <th>year</th>\n      <th>quantity</th>\n      <th>category</th>\n    </tr>\n  </thead>\n  <tbody>\n    <tr>\n      <th>10617</th>\n      <td>Estonia</td>\n      <td>2008</td>\n      <td>1.0</td>\n      <td>4</td>\n    </tr>\n    <tr>\n      <th>10620</th>\n      <td>Estonia</td>\n      <td>2005</td>\n      <td>1.0</td>\n      <td>4</td>\n    </tr>\n    <tr>\n      <th>10621</th>\n      <td>Estonia</td>\n      <td>2004</td>\n      <td>1.0</td>\n      <td>4</td>\n    </tr>\n    <tr>\n      <th>10622</th>\n      <td>Estonia</td>\n      <td>2003</td>\n      <td>1.0</td>\n      <td>4</td>\n    </tr>\n    <tr>\n      <th>10624</th>\n      <td>Estonia</td>\n      <td>2001</td>\n      <td>1.0</td>\n      <td>4</td>\n    </tr>\n    <tr>\n      <th>...</th>\n      <td>...</td>\n      <td>...</td>\n      <td>...</td>\n      <td>...</td>\n    </tr>\n    <tr>\n      <th>253983</th>\n      <td>Lithuania</td>\n      <td>2008</td>\n      <td>54.0</td>\n      <td>21</td>\n    </tr>\n    <tr>\n      <th>253984</th>\n      <td>Lithuania</td>\n      <td>2007</td>\n      <td>47.0</td>\n      <td>21</td>\n    </tr>\n    <tr>\n      <th>253985</th>\n      <td>Lithuania</td>\n      <td>2006</td>\n      <td>31.0</td>\n      <td>21</td>\n    </tr>\n    <tr>\n      <th>253986</th>\n      <td>Lithuania</td>\n      <td>2005</td>\n      <td>1.0</td>\n      <td>21</td>\n    </tr>\n    <tr>\n      <th>253987</th>\n      <td>Lithuania</td>\n      <td>2004</td>\n      <td>1.0</td>\n      <td>21</td>\n    </tr>\n  </tbody>\n</table>\n<p>1044 rows × 4 columns</p>\n</div>"
     },
     "metadata": {},
     "execution_count": 15
    }
   ],
   "source": [
    "# выбираем требуемую категорию + условие на потребление больше 0\n",
    "\n",
    "data_p_category = data_p[ ((data_p['category'] == 4) | (data_p['category'] == 12) | (data_p['category'] == 21)) & (data_p['quantity'] > 0) ]\n",
    "\n",
    "data_p_category"
   ]
  },
  {
   "cell_type": "code",
   "execution_count": 16,
   "metadata": {},
   "outputs": [
    {
     "output_type": "execute_result",
     "data": {
      "text/plain": "          country  year  quantity  category\n10617     Estonia  2008       1.0         4\n10620     Estonia  2005       1.0         4\n11156   Lithuania  2008       1.0         4\n11158   Lithuania  2006       1.0         4\n11159   Lithuania  2005       1.0         4\n...           ...   ...       ...       ...\n253982  Lithuania  2009      98.0        21\n253983  Lithuania  2008      54.0        21\n253984  Lithuania  2007      47.0        21\n253985  Lithuania  2006      31.0        21\n253986  Lithuania  2005       1.0        21\n\n[347 rows x 4 columns]",
      "text/html": "<div>\n<style scoped>\n    .dataframe tbody tr th:only-of-type {\n        vertical-align: middle;\n    }\n\n    .dataframe tbody tr th {\n        vertical-align: top;\n    }\n\n    .dataframe thead th {\n        text-align: right;\n    }\n</style>\n<table border=\"1\" class=\"dataframe\">\n  <thead>\n    <tr style=\"text-align: right;\">\n      <th></th>\n      <th>country</th>\n      <th>year</th>\n      <th>quantity</th>\n      <th>category</th>\n    </tr>\n  </thead>\n  <tbody>\n    <tr>\n      <th>10617</th>\n      <td>Estonia</td>\n      <td>2008</td>\n      <td>1.0</td>\n      <td>4</td>\n    </tr>\n    <tr>\n      <th>10620</th>\n      <td>Estonia</td>\n      <td>2005</td>\n      <td>1.0</td>\n      <td>4</td>\n    </tr>\n    <tr>\n      <th>11156</th>\n      <td>Lithuania</td>\n      <td>2008</td>\n      <td>1.0</td>\n      <td>4</td>\n    </tr>\n    <tr>\n      <th>11158</th>\n      <td>Lithuania</td>\n      <td>2006</td>\n      <td>1.0</td>\n      <td>4</td>\n    </tr>\n    <tr>\n      <th>11159</th>\n      <td>Lithuania</td>\n      <td>2005</td>\n      <td>1.0</td>\n      <td>4</td>\n    </tr>\n    <tr>\n      <th>...</th>\n      <td>...</td>\n      <td>...</td>\n      <td>...</td>\n      <td>...</td>\n    </tr>\n    <tr>\n      <th>253982</th>\n      <td>Lithuania</td>\n      <td>2009</td>\n      <td>98.0</td>\n      <td>21</td>\n    </tr>\n    <tr>\n      <th>253983</th>\n      <td>Lithuania</td>\n      <td>2008</td>\n      <td>54.0</td>\n      <td>21</td>\n    </tr>\n    <tr>\n      <th>253984</th>\n      <td>Lithuania</td>\n      <td>2007</td>\n      <td>47.0</td>\n      <td>21</td>\n    </tr>\n    <tr>\n      <th>253985</th>\n      <td>Lithuania</td>\n      <td>2006</td>\n      <td>31.0</td>\n      <td>21</td>\n    </tr>\n    <tr>\n      <th>253986</th>\n      <td>Lithuania</td>\n      <td>2005</td>\n      <td>1.0</td>\n      <td>21</td>\n    </tr>\n  </tbody>\n</table>\n<p>347 rows × 4 columns</p>\n</div>"
     },
     "metadata": {},
     "execution_count": 16
    }
   ],
   "source": [
    "# выбираем нужный год\n",
    "\n",
    "data_p_category_year = data_p_category.query(f'{2005} <= year <= {2010}')\n",
    "\n",
    "data_p_category_year"
   ]
  },
  {
   "cell_type": "code",
   "execution_count": 17,
   "metadata": {},
   "outputs": [
    {
     "output_type": "execute_result",
     "data": {
      "text/plain": "240580.0"
     },
     "metadata": {},
     "execution_count": 17
    }
   ],
   "source": [
    "# определяем суммарное потребление - ответ на задачу\n",
    "\n",
    "data_p_category_year['quantity'].sum()"
   ]
  },
  {
   "cell_type": "markdown",
   "metadata": {},
   "source": [
    "### Задание 3\n",
    "\n",
    "Выберите страницу любого сайта с табличными данными. Импортируйте таблицы в pandas dataframe.\n",
    "Примеры страниц (необязательно брать именно эти):\n",
    " \n",
    "https://fortrader.org/quotes\n",
    "\n",
    "https://www.finanz.ru/valyuty/v-realnom-vremeni"
   ]
  },
  {
   "cell_type": "code",
   "execution_count": 26,
   "metadata": {},
   "outputs": [
    {
     "output_type": "execute_result",
     "data": {
      "text/plain": "                           Ультразвуковая диагностика  Unnamed: 1\n0                           УЗИ гепатобиллиарной зоны      2170.0\n1                  Комплексное УЗИ внутренних органов      2550.0\n2                                          УЗИ печени      1280.0\n3                                 УЗИ желчного пузыря      1160.0\n4   УЗИ желчного пузыря с определением его сократи...      1280.0\n..                                                ...         ...\n75                        Электроэнцефалография (ЭЭГ)      3060.0\n76                            Реоэнцефалография (РЭГ)      1530.0\n77                                Реовазография (РВГ)      1780.0\n78                         Эхоэнцефалография (ЭХО ЭГ)      1660.0\n79                                       Тредмил тест      6060.0\n\n[80 rows x 2 columns]",
      "text/html": "<div>\n<style scoped>\n    .dataframe tbody tr th:only-of-type {\n        vertical-align: middle;\n    }\n\n    .dataframe tbody tr th {\n        vertical-align: top;\n    }\n\n    .dataframe thead th {\n        text-align: right;\n    }\n</style>\n<table border=\"1\" class=\"dataframe\">\n  <thead>\n    <tr style=\"text-align: right;\">\n      <th></th>\n      <th>Ультразвуковая диагностика</th>\n      <th>Unnamed: 1</th>\n    </tr>\n  </thead>\n  <tbody>\n    <tr>\n      <th>0</th>\n      <td>УЗИ гепатобиллиарной зоны</td>\n      <td>2170.0</td>\n    </tr>\n    <tr>\n      <th>1</th>\n      <td>Комплексное УЗИ внутренних органов</td>\n      <td>2550.0</td>\n    </tr>\n    <tr>\n      <th>2</th>\n      <td>УЗИ печени</td>\n      <td>1280.0</td>\n    </tr>\n    <tr>\n      <th>3</th>\n      <td>УЗИ желчного пузыря</td>\n      <td>1160.0</td>\n    </tr>\n    <tr>\n      <th>4</th>\n      <td>УЗИ желчного пузыря с определением его сократи...</td>\n      <td>1280.0</td>\n    </tr>\n    <tr>\n      <th>...</th>\n      <td>...</td>\n      <td>...</td>\n    </tr>\n    <tr>\n      <th>75</th>\n      <td>Электроэнцефалография (ЭЭГ)</td>\n      <td>3060.0</td>\n    </tr>\n    <tr>\n      <th>76</th>\n      <td>Реоэнцефалография (РЭГ)</td>\n      <td>1530.0</td>\n    </tr>\n    <tr>\n      <th>77</th>\n      <td>Реовазография (РВГ)</td>\n      <td>1780.0</td>\n    </tr>\n    <tr>\n      <th>78</th>\n      <td>Эхоэнцефалография (ЭХО ЭГ)</td>\n      <td>1660.0</td>\n    </tr>\n    <tr>\n      <th>79</th>\n      <td>Тредмил тест</td>\n      <td>6060.0</td>\n    </tr>\n  </tbody>\n</table>\n<p>80 rows × 2 columns</p>\n</div>"
     },
     "metadata": {},
     "execution_count": 26
    }
   ],
   "source": [
    "# выбираем прайслист функциональной диагностики со страницы мед.центра\n",
    "url = 'https://www.mckolomen.ru/uslugi/funktsionalnaya_diagnostika/#price_list/'\n",
    "\n",
    "# скачиваем нужный блок с ценами\n",
    "data_tabl = pd.read_html(url, attrs={'class': 'an_prices'}, encoding='utf-8')[0]\n",
    "\n",
    "data_tabl"
   ]
  },
  {
   "cell_type": "code",
   "execution_count": null,
   "metadata": {},
   "outputs": [],
   "source": []
  }
 ],
 "metadata": {
  "language_info": {
   "codemirror_mode": {
    "name": "ipython",
    "version": 3
   },
   "file_extension": ".py",
   "mimetype": "text/x-python",
   "name": "python",
   "nbconvert_exporter": "python",
   "pygments_lexer": "ipython3",
   "version": "3.7.2-final"
  },
  "orig_nbformat": 2,
  "kernelspec": {
   "name": "python37264bit756f231e437a4db2b965934ccae74f70",
   "display_name": "Python 3.7.2 64-bit"
  }
 },
 "nbformat": 4,
 "nbformat_minor": 2
}