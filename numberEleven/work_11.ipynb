{
 "cells": [
  {
   "cell_type": "markdown",
   "metadata": {},
   "source": [
    "### Задание 1\n",
    "\n",
    "Напишите функцию, которая классифицирует фильмы из материалов занятия по следующим правилам:\n",
    "  - оценка 2 и меньше - низкий рейтинг\n",
    "  - оценка 4 и меньше - средний рейтинг\n",
    "  - оценка 4.5 и 5 - высокий рейтинг\n",
    "\n",
    "Результат классификации запишите в столбец class"
   ]
  },
  {
   "cell_type": "code",
   "execution_count": 1,
   "metadata": {},
   "outputs": [],
   "source": [
    "import pandas as pd"
   ]
  },
  {
   "cell_type": "code",
   "execution_count": 2,
   "metadata": {},
   "outputs": [
    {
     "output_type": "execute_result",
     "data": {
      "text/plain": "   userId  movieId  rating  timestamp\n0       1        1     4.0  964982703\n1       1        3     4.0  964981247\n2       1        6     4.0  964982224",
      "text/html": "<div>\n<style scoped>\n    .dataframe tbody tr th:only-of-type {\n        vertical-align: middle;\n    }\n\n    .dataframe tbody tr th {\n        vertical-align: top;\n    }\n\n    .dataframe thead th {\n        text-align: right;\n    }\n</style>\n<table border=\"1\" class=\"dataframe\">\n  <thead>\n    <tr style=\"text-align: right;\">\n      <th></th>\n      <th>userId</th>\n      <th>movieId</th>\n      <th>rating</th>\n      <th>timestamp</th>\n    </tr>\n  </thead>\n  <tbody>\n    <tr>\n      <th>0</th>\n      <td>1</td>\n      <td>1</td>\n      <td>4.0</td>\n      <td>964982703</td>\n    </tr>\n    <tr>\n      <th>1</th>\n      <td>1</td>\n      <td>3</td>\n      <td>4.0</td>\n      <td>964981247</td>\n    </tr>\n    <tr>\n      <th>2</th>\n      <td>1</td>\n      <td>6</td>\n      <td>4.0</td>\n      <td>964982224</td>\n    </tr>\n  </tbody>\n</table>\n</div>"
     },
     "metadata": {},
     "execution_count": 2
    }
   ],
   "source": [
    "# читаем файл с оценками\n",
    "data_rating = pd.read_csv('ratings.csv')\n",
    "data_rating.head(3)"
   ]
  },
  {
   "cell_type": "code",
   "execution_count": 3,
   "metadata": {},
   "outputs": [
    {
     "output_type": "execute_result",
     "data": {
      "text/plain": "array([4. , 5. , 3. , 2. , 1. , 4.5, 3.5, 2.5, 0.5, 1.5])"
     },
     "metadata": {},
     "execution_count": 3
    }
   ],
   "source": [
    "# смотрим на диапазон оценок (выполнимо ли условие задачи)\n",
    "data_rating.rating.unique()"
   ]
  },
  {
   "cell_type": "code",
   "execution_count": 4,
   "metadata": {},
   "outputs": [],
   "source": [
    "def class_rating(element):\n",
    "    \"\"\" Классификация фильмов в зависимости от оценок \"\"\"\n",
    "        \n",
    "    if element <= 2.0:\n",
    "        return 'низкий рейтинг'\n",
    "\n",
    "    elif 2.0 < element <= 4.0:\n",
    "        return 'средний рейтинг'\n",
    "\n",
    "    else:\n",
    "        return 'высокий рейтинг'"
   ]
  },
  {
   "cell_type": "code",
   "execution_count": 5,
   "metadata": {
    "tags": []
   },
   "outputs": [
    {
     "output_type": "execute_result",
     "data": {
      "text/plain": "   movieId  rating            class\n0        1     4.0  средний рейтинг\n1        3     4.0  средний рейтинг\n2        6     4.0  средний рейтинг\n3       47     5.0  высокий рейтинг\n4       50     5.0  высокий рейтинг",
      "text/html": "<div>\n<style scoped>\n    .dataframe tbody tr th:only-of-type {\n        vertical-align: middle;\n    }\n\n    .dataframe tbody tr th {\n        vertical-align: top;\n    }\n\n    .dataframe thead th {\n        text-align: right;\n    }\n</style>\n<table border=\"1\" class=\"dataframe\">\n  <thead>\n    <tr style=\"text-align: right;\">\n      <th></th>\n      <th>movieId</th>\n      <th>rating</th>\n      <th>class</th>\n    </tr>\n  </thead>\n  <tbody>\n    <tr>\n      <th>0</th>\n      <td>1</td>\n      <td>4.0</td>\n      <td>средний рейтинг</td>\n    </tr>\n    <tr>\n      <th>1</th>\n      <td>3</td>\n      <td>4.0</td>\n      <td>средний рейтинг</td>\n    </tr>\n    <tr>\n      <th>2</th>\n      <td>6</td>\n      <td>4.0</td>\n      <td>средний рейтинг</td>\n    </tr>\n    <tr>\n      <th>3</th>\n      <td>47</td>\n      <td>5.0</td>\n      <td>высокий рейтинг</td>\n    </tr>\n    <tr>\n      <th>4</th>\n      <td>50</td>\n      <td>5.0</td>\n      <td>высокий рейтинг</td>\n    </tr>\n  </tbody>\n</table>\n</div>"
     },
     "metadata": {},
     "execution_count": 5
    }
   ],
   "source": [
    "# записываем результаты классификации в столбец class\n",
    "data_rating['class'] = data_rating['rating'].apply(class_rating)\n",
    "\n",
    "data_rating[['movieId', 'rating', 'class']].head()"
   ]
  },
  {
   "cell_type": "code",
   "execution_count": 6,
   "metadata": {},
   "outputs": [
    {
     "output_type": "execute_result",
     "data": {
      "text/plain": "средний рейтинг    65551\nвысокий рейтинг    21762\nнизкий рейтинг     13523\nName: class, dtype: int64"
     },
     "metadata": {},
     "execution_count": 6
    }
   ],
   "source": [
    "# справочно смотрим на распределение оценок по рейтингу\n",
    "data_rating['class'].value_counts()"
   ]
  },
  {
   "cell_type": "markdown",
   "metadata": {},
   "source": [
    "### Задание 2\n",
    "\n",
    "Используем файл keywords.csv.\n",
    "\n",
    "Необходимо написать гео-классификатор, который каждой строке сможет выставить географическую принадлежность определенному региону. \n",
    "\n",
    "Т. е. если поисковый запрос содержит название города региона, то в столбце 'region' пишется название этого региона. Если поисковый запрос не содержит названия города, то ставим 'undefined'.\n",
    "\n",
    "Правила распределения по регионам Центр, Северо-Запад и Дальний Восток:\n",
    "\n",
    "geo_data = {\n",
    "\n",
    "    'Центр': ['москва', 'тула', 'ярославль'],\n",
    "\n",
    "    'Северо-Запад': ['петербург', 'псков', 'мурманск'],\n",
    "\n",
    "    'Дальний Восток': ['владивосток', 'сахалин', 'хабаровск']\n",
    "\n",
    "}\n",
    "\n",
    "Результат классификации запишите в отдельный столбец region"
   ]
  },
  {
   "cell_type": "code",
   "execution_count": 7,
   "metadata": {},
   "outputs": [
    {
     "output_type": "execute_result",
     "data": {
      "text/plain": "         keyword     shows\n0             вк  64292779\n1  одноклассники  63810309\n2          порно  41747114\n3           ютуб  39995567\n4      вконтакте  21014195",
      "text/html": "<div>\n<style scoped>\n    .dataframe tbody tr th:only-of-type {\n        vertical-align: middle;\n    }\n\n    .dataframe tbody tr th {\n        vertical-align: top;\n    }\n\n    .dataframe thead th {\n        text-align: right;\n    }\n</style>\n<table border=\"1\" class=\"dataframe\">\n  <thead>\n    <tr style=\"text-align: right;\">\n      <th></th>\n      <th>keyword</th>\n      <th>shows</th>\n    </tr>\n  </thead>\n  <tbody>\n    <tr>\n      <th>0</th>\n      <td>вк</td>\n      <td>64292779</td>\n    </tr>\n    <tr>\n      <th>1</th>\n      <td>одноклассники</td>\n      <td>63810309</td>\n    </tr>\n    <tr>\n      <th>2</th>\n      <td>порно</td>\n      <td>41747114</td>\n    </tr>\n    <tr>\n      <th>3</th>\n      <td>ютуб</td>\n      <td>39995567</td>\n    </tr>\n    <tr>\n      <th>4</th>\n      <td>вконтакте</td>\n      <td>21014195</td>\n    </tr>\n  </tbody>\n</table>\n</div>"
     },
     "metadata": {},
     "execution_count": 7
    }
   ],
   "source": [
    "# читаем файл с данными\n",
    "data_keyword = pd.read_csv('keywords.csv')\n",
    "data_keyword.head()"
   ]
  },
  {
   "cell_type": "code",
   "execution_count": 8,
   "metadata": {},
   "outputs": [],
   "source": [
    "# используем исходный словарь с регионами и городами\n",
    "geo_data = {\n",
    "\n",
    "'Центр': ['москва', 'тула', 'ярославль'],\n",
    "\n",
    "'Северо-Запад': ['петербург', 'псков', 'мурманск'],\n",
    "\n",
    "'Дальний Восток': ['владивосток', 'сахалин', 'хабаровск']\n",
    "}"
   ]
  },
  {
   "cell_type": "code",
   "execution_count": 9,
   "metadata": {},
   "outputs": [],
   "source": [
    "# задаем переменные со списками городов\n",
    "senter = geo_data['Центр']\n",
    "sz = geo_data['Северо-Запад']\n",
    "dv = geo_data['Дальний Восток']"
   ]
  },
  {
   "cell_type": "code",
   "execution_count": 10,
   "metadata": {},
   "outputs": [],
   "source": [
    "def geo_class(param):\n",
    "    \"\"\" Классификация по регионам в зависимости от городов \"\"\" \n",
    "\n",
    "    if (senter[0] or senter[1] or senter[2]) in param.keyword:\n",
    "        return list(geo_data.keys())[0]\n",
    "    \n",
    "    elif (sz[0] or sz[1] or sz[2]) in param.keyword:\n",
    "        return list(geo_data.keys())[1]\n",
    "    \n",
    "    elif (dv[0] or dv[1] or dv[2]) in param.keyword:\n",
    "        return list(geo_data.keys())[2]\n",
    "    \n",
    "    else:\n",
    "        return 'undefined'"
   ]
  },
  {
   "cell_type": "code",
   "execution_count": 11,
   "metadata": {},
   "outputs": [
    {
     "output_type": "execute_result",
     "data": {
      "text/plain": "         keyword     shows     region\n0             вк  64292779  undefined\n1  одноклассники  63810309  undefined\n2          порно  41747114  undefined\n3           ютуб  39995567  undefined\n4      вконтакте  21014195  undefined",
      "text/html": "<div>\n<style scoped>\n    .dataframe tbody tr th:only-of-type {\n        vertical-align: middle;\n    }\n\n    .dataframe tbody tr th {\n        vertical-align: top;\n    }\n\n    .dataframe thead th {\n        text-align: right;\n    }\n</style>\n<table border=\"1\" class=\"dataframe\">\n  <thead>\n    <tr style=\"text-align: right;\">\n      <th></th>\n      <th>keyword</th>\n      <th>shows</th>\n      <th>region</th>\n    </tr>\n  </thead>\n  <tbody>\n    <tr>\n      <th>0</th>\n      <td>вк</td>\n      <td>64292779</td>\n      <td>undefined</td>\n    </tr>\n    <tr>\n      <th>1</th>\n      <td>одноклассники</td>\n      <td>63810309</td>\n      <td>undefined</td>\n    </tr>\n    <tr>\n      <th>2</th>\n      <td>порно</td>\n      <td>41747114</td>\n      <td>undefined</td>\n    </tr>\n    <tr>\n      <th>3</th>\n      <td>ютуб</td>\n      <td>39995567</td>\n      <td>undefined</td>\n    </tr>\n    <tr>\n      <th>4</th>\n      <td>вконтакте</td>\n      <td>21014195</td>\n      <td>undefined</td>\n    </tr>\n  </tbody>\n</table>\n</div>"
     },
     "metadata": {},
     "execution_count": 11
    }
   ],
   "source": [
    "# записываем результаты классификации в столбец region\n",
    "data_keyword['region'] = data_keyword.apply(geo_class, axis=1)\n",
    "data_keyword.head()"
   ]
  },
  {
   "cell_type": "code",
   "execution_count": 12,
   "metadata": {},
   "outputs": [
    {
     "output_type": "execute_result",
     "data": {
      "text/plain": "undefined         99462\nЦентр               284\nСеверо-Запад        211\nДальний Восток       43\nName: region, dtype: int64"
     },
     "metadata": {},
     "execution_count": 12
    }
   ],
   "source": [
    "# справочно смотрим на распределение запросов по регионам\n",
    "data_keyword.region.value_counts()"
   ]
  },
  {
   "cell_type": "markdown",
   "metadata": {},
   "source": [
    "### Задание 3 (бонусное)\n",
    "\n",
    "Есть мнение, что \"раньше снимали настоящее кино, не то что сейчас\". \n",
    "\n",
    "Ваша задача проверить это утверждение, используя файлы с рейтингами фильмов из прошлого домашнего занятия (файл ratings.csv из базы https://grouplens.org/datasets/movielens).\n",
    "\n",
    "Т. е. проверить верно ли, что с ростом года выпуска фильма его средний рейтинг становится ниже.\n",
    "\n",
    "При этом мы не будем затрагивать субьективные факторы выставления этих рейтингов, а пройдемся по следующему алгоритму:\n",
    "\n",
    "1. В переменную years запишите список из всех годов с 1950 по 2010.\n",
    "\n",
    "2. Напишите функцию production_year, которая каждой строке из названия фильма выставляет год выпуска. Не все названия фильмов содержат год выпуска в одинаковом формате, поэтому используйте следующий алгоритм:\n",
    "  - для каждой строки пройдите по всем годам списка years\n",
    "  - если номер года присутствует в названии фильма, то функция возвращает этот год как год выпуска\n",
    "  - если ни один из номеров года списка years не встретился в названии фильма, то возвращается 1900 год\n",
    "\n",
    "3. Запишите год выпуска фильма по алгоритму пункта 2 в новый столбец 'year'\n",
    "\n",
    "4. Посчитайте средний рейтинг всех фильмов для каждого значения столбца 'year' и отсортируйте результат по убыванию рейтинга.\n"
   ]
  },
  {
   "cell_type": "code",
   "execution_count": 13,
   "metadata": {},
   "outputs": [
    {
     "output_type": "execute_result",
     "data": {
      "text/plain": "   userId  movieId  rating  timestamp\n0       1        1     4.0  964982703\n1       1        3     4.0  964981247\n2       1        6     4.0  964982224",
      "text/html": "<div>\n<style scoped>\n    .dataframe tbody tr th:only-of-type {\n        vertical-align: middle;\n    }\n\n    .dataframe tbody tr th {\n        vertical-align: top;\n    }\n\n    .dataframe thead th {\n        text-align: right;\n    }\n</style>\n<table border=\"1\" class=\"dataframe\">\n  <thead>\n    <tr style=\"text-align: right;\">\n      <th></th>\n      <th>userId</th>\n      <th>movieId</th>\n      <th>rating</th>\n      <th>timestamp</th>\n    </tr>\n  </thead>\n  <tbody>\n    <tr>\n      <th>0</th>\n      <td>1</td>\n      <td>1</td>\n      <td>4.0</td>\n      <td>964982703</td>\n    </tr>\n    <tr>\n      <th>1</th>\n      <td>1</td>\n      <td>3</td>\n      <td>4.0</td>\n      <td>964981247</td>\n    </tr>\n    <tr>\n      <th>2</th>\n      <td>1</td>\n      <td>6</td>\n      <td>4.0</td>\n      <td>964982224</td>\n    </tr>\n  </tbody>\n</table>\n</div>"
     },
     "metadata": {},
     "execution_count": 13
    }
   ],
   "source": [
    "# читаем файл с оценками\n",
    "df_ratings = pd.read_csv('ratings.csv')\n",
    "df_ratings.head(3)"
   ]
  },
  {
   "cell_type": "code",
   "execution_count": 14,
   "metadata": {},
   "outputs": [
    {
     "output_type": "execute_result",
     "data": {
      "text/plain": "   movieId                    title  \\\n0        1         Toy Story (1995)   \n1        2           Jumanji (1995)   \n2        3  Grumpier Old Men (1995)   \n\n                                        genres  \n0  Adventure|Animation|Children|Comedy|Fantasy  \n1                   Adventure|Children|Fantasy  \n2                               Comedy|Romance  ",
      "text/html": "<div>\n<style scoped>\n    .dataframe tbody tr th:only-of-type {\n        vertical-align: middle;\n    }\n\n    .dataframe tbody tr th {\n        vertical-align: top;\n    }\n\n    .dataframe thead th {\n        text-align: right;\n    }\n</style>\n<table border=\"1\" class=\"dataframe\">\n  <thead>\n    <tr style=\"text-align: right;\">\n      <th></th>\n      <th>movieId</th>\n      <th>title</th>\n      <th>genres</th>\n    </tr>\n  </thead>\n  <tbody>\n    <tr>\n      <th>0</th>\n      <td>1</td>\n      <td>Toy Story (1995)</td>\n      <td>Adventure|Animation|Children|Comedy|Fantasy</td>\n    </tr>\n    <tr>\n      <th>1</th>\n      <td>2</td>\n      <td>Jumanji (1995)</td>\n      <td>Adventure|Children|Fantasy</td>\n    </tr>\n    <tr>\n      <th>2</th>\n      <td>3</td>\n      <td>Grumpier Old Men (1995)</td>\n      <td>Comedy|Romance</td>\n    </tr>\n  </tbody>\n</table>\n</div>"
     },
     "metadata": {},
     "execution_count": 14
    }
   ],
   "source": [
    "# читаем файл с фильмами\n",
    "df_movies = pd.read_csv('movies.csv')\n",
    "df_movies.head(3)"
   ]
  },
  {
   "cell_type": "code",
   "execution_count": 15,
   "metadata": {},
   "outputs": [],
   "source": [
    "# задаем переменную со списком из требуемых годов\n",
    "years = list(range(1950,2011))"
   ]
  },
  {
   "cell_type": "code",
   "execution_count": 16,
   "metadata": {},
   "outputs": [],
   "source": [
    "def production_year(row):\n",
    "    \"\"\" Возвращает год выпуска из каждой строки с названием фильма при условии,\n",
    "    что этот год есть в заданном перечне, иначе - 1900 год \"\"\"\n",
    "    \n",
    "    for year in years:\n",
    "        if str(year) in row:\n",
    "            return str(year)\n",
    "    return '1900'"
   ]
  },
  {
   "cell_type": "code",
   "execution_count": 17,
   "metadata": {
    "tags": []
   },
   "outputs": [
    {
     "output_type": "execute_result",
     "data": {
      "text/plain": "      movieId                                              title  \\\n9727   190213                                   John From (2015)   \n9728   190215                                Liquid Truth (2017)   \n9729   190219                                       Bunny (1998)   \n9730   190221  Hommage à Zgougou (et salut à Sabine Mamou) (2...   \n9731   191005                                     Gintama (2017)   \n9732   193565                          Gintama: The Movie (2010)   \n9733   193567  anohana: The Flower We Saw That Day - The Movi...   \n9734   193571                                Silver Spoon (2014)   \n9735   193573            Love Live! The School Idol Movie (2015)   \n9736   193579           Jon Stewart Has Left the Building (2015)   \n9737   193581          Black Butler: Book of the Atlantic (2017)   \n9738   193583                       No Game No Life: Zero (2017)   \n9739   193585                                       Flint (2017)   \n9740   193587                Bungo Stray Dogs: Dead Apple (2018)   \n9741   193609                Andrew Dice Clay: Dice Rules (1991)   \n\n                               genres  year  \n9727                            Drama  1900  \n9728                            Drama  1900  \n9729                        Animation  1998  \n9730                      Documentary  2002  \n9731   Action|Adventure|Comedy|Sci-Fi  1900  \n9732   Action|Animation|Comedy|Sci-Fi  2010  \n9733                  Animation|Drama  1900  \n9734                     Comedy|Drama  1900  \n9735                        Animation  1900  \n9736                      Documentary  1900  \n9737  Action|Animation|Comedy|Fantasy  1900  \n9738         Animation|Comedy|Fantasy  1900  \n9739                            Drama  1900  \n9740                 Action|Animation  1900  \n9741                           Comedy  1991  ",
      "text/html": "<div>\n<style scoped>\n    .dataframe tbody tr th:only-of-type {\n        vertical-align: middle;\n    }\n\n    .dataframe tbody tr th {\n        vertical-align: top;\n    }\n\n    .dataframe thead th {\n        text-align: right;\n    }\n</style>\n<table border=\"1\" class=\"dataframe\">\n  <thead>\n    <tr style=\"text-align: right;\">\n      <th></th>\n      <th>movieId</th>\n      <th>title</th>\n      <th>genres</th>\n      <th>year</th>\n    </tr>\n  </thead>\n  <tbody>\n    <tr>\n      <th>9727</th>\n      <td>190213</td>\n      <td>John From (2015)</td>\n      <td>Drama</td>\n      <td>1900</td>\n    </tr>\n    <tr>\n      <th>9728</th>\n      <td>190215</td>\n      <td>Liquid Truth (2017)</td>\n      <td>Drama</td>\n      <td>1900</td>\n    </tr>\n    <tr>\n      <th>9729</th>\n      <td>190219</td>\n      <td>Bunny (1998)</td>\n      <td>Animation</td>\n      <td>1998</td>\n    </tr>\n    <tr>\n      <th>9730</th>\n      <td>190221</td>\n      <td>Hommage à Zgougou (et salut à Sabine Mamou) (2...</td>\n      <td>Documentary</td>\n      <td>2002</td>\n    </tr>\n    <tr>\n      <th>9731</th>\n      <td>191005</td>\n      <td>Gintama (2017)</td>\n      <td>Action|Adventure|Comedy|Sci-Fi</td>\n      <td>1900</td>\n    </tr>\n    <tr>\n      <th>9732</th>\n      <td>193565</td>\n      <td>Gintama: The Movie (2010)</td>\n      <td>Action|Animation|Comedy|Sci-Fi</td>\n      <td>2010</td>\n    </tr>\n    <tr>\n      <th>9733</th>\n      <td>193567</td>\n      <td>anohana: The Flower We Saw That Day - The Movi...</td>\n      <td>Animation|Drama</td>\n      <td>1900</td>\n    </tr>\n    <tr>\n      <th>9734</th>\n      <td>193571</td>\n      <td>Silver Spoon (2014)</td>\n      <td>Comedy|Drama</td>\n      <td>1900</td>\n    </tr>\n    <tr>\n      <th>9735</th>\n      <td>193573</td>\n      <td>Love Live! The School Idol Movie (2015)</td>\n      <td>Animation</td>\n      <td>1900</td>\n    </tr>\n    <tr>\n      <th>9736</th>\n      <td>193579</td>\n      <td>Jon Stewart Has Left the Building (2015)</td>\n      <td>Documentary</td>\n      <td>1900</td>\n    </tr>\n    <tr>\n      <th>9737</th>\n      <td>193581</td>\n      <td>Black Butler: Book of the Atlantic (2017)</td>\n      <td>Action|Animation|Comedy|Fantasy</td>\n      <td>1900</td>\n    </tr>\n    <tr>\n      <th>9738</th>\n      <td>193583</td>\n      <td>No Game No Life: Zero (2017)</td>\n      <td>Animation|Comedy|Fantasy</td>\n      <td>1900</td>\n    </tr>\n    <tr>\n      <th>9739</th>\n      <td>193585</td>\n      <td>Flint (2017)</td>\n      <td>Drama</td>\n      <td>1900</td>\n    </tr>\n    <tr>\n      <th>9740</th>\n      <td>193587</td>\n      <td>Bungo Stray Dogs: Dead Apple (2018)</td>\n      <td>Action|Animation</td>\n      <td>1900</td>\n    </tr>\n    <tr>\n      <th>9741</th>\n      <td>193609</td>\n      <td>Andrew Dice Clay: Dice Rules (1991)</td>\n      <td>Comedy</td>\n      <td>1991</td>\n    </tr>\n  </tbody>\n</table>\n</div>"
     },
     "metadata": {},
     "execution_count": 17
    }
   ],
   "source": [
    "# результаты применения функции записываем в столбец year\n",
    "df_movies['year'] = df_movies['title'].apply(production_year)\n",
    "df_movies.tail(15)"
   ]
  },
  {
   "cell_type": "code",
   "execution_count": 18,
   "metadata": {},
   "outputs": [
    {
     "output_type": "execute_result",
     "data": {
      "text/plain": "1900    2076\n2002     310\n2006     296\n2001     295\n2000     284\n        ... \n1956      30\n1954      23\n1951      22\n1950      21\n1952      16\nName: year, Length: 62, dtype: int64"
     },
     "metadata": {},
     "execution_count": 18
    }
   ],
   "source": [
    "# справочно смотрим на количество фильмов по годам\n",
    "df_movies.year.value_counts()"
   ]
  },
  {
   "cell_type": "code",
   "execution_count": 19,
   "metadata": {},
   "outputs": [
    {
     "output_type": "execute_result",
     "data": {
      "text/plain": "        movieId                                              title  year  \\\n100821   190213                                   John From (2015)  1900   \n100822   190215                                Liquid Truth (2017)  1900   \n100823   190219                                       Bunny (1998)  1998   \n100824   190221  Hommage à Zgougou (et salut à Sabine Mamou) (2...  2002   \n100825   191005                                     Gintama (2017)  1900   \n100826   193565                          Gintama: The Movie (2010)  2010   \n100827   193567  anohana: The Flower We Saw That Day - The Movi...  1900   \n100828   193571                                Silver Spoon (2014)  1900   \n100829   193573            Love Live! The School Idol Movie (2015)  1900   \n100830   193579           Jon Stewart Has Left the Building (2015)  1900   \n100831   193581          Black Butler: Book of the Atlantic (2017)  1900   \n100832   193583                       No Game No Life: Zero (2017)  1900   \n100833   193585                                       Flint (2017)  1900   \n100834   193587                Bungo Stray Dogs: Dead Apple (2018)  1900   \n100835   193609                Andrew Dice Clay: Dice Rules (1991)  1991   \n\n        rating  \n100821     1.0  \n100822     1.5  \n100823     1.0  \n100824     1.0  \n100825     4.5  \n100826     3.5  \n100827     3.0  \n100828     4.0  \n100829     4.0  \n100830     3.5  \n100831     4.0  \n100832     3.5  \n100833     3.5  \n100834     3.5  \n100835     4.0  ",
      "text/html": "<div>\n<style scoped>\n    .dataframe tbody tr th:only-of-type {\n        vertical-align: middle;\n    }\n\n    .dataframe tbody tr th {\n        vertical-align: top;\n    }\n\n    .dataframe thead th {\n        text-align: right;\n    }\n</style>\n<table border=\"1\" class=\"dataframe\">\n  <thead>\n    <tr style=\"text-align: right;\">\n      <th></th>\n      <th>movieId</th>\n      <th>title</th>\n      <th>year</th>\n      <th>rating</th>\n    </tr>\n  </thead>\n  <tbody>\n    <tr>\n      <th>100821</th>\n      <td>190213</td>\n      <td>John From (2015)</td>\n      <td>1900</td>\n      <td>1.0</td>\n    </tr>\n    <tr>\n      <th>100822</th>\n      <td>190215</td>\n      <td>Liquid Truth (2017)</td>\n      <td>1900</td>\n      <td>1.5</td>\n    </tr>\n    <tr>\n      <th>100823</th>\n      <td>190219</td>\n      <td>Bunny (1998)</td>\n      <td>1998</td>\n      <td>1.0</td>\n    </tr>\n    <tr>\n      <th>100824</th>\n      <td>190221</td>\n      <td>Hommage à Zgougou (et salut à Sabine Mamou) (2...</td>\n      <td>2002</td>\n      <td>1.0</td>\n    </tr>\n    <tr>\n      <th>100825</th>\n      <td>191005</td>\n      <td>Gintama (2017)</td>\n      <td>1900</td>\n      <td>4.5</td>\n    </tr>\n    <tr>\n      <th>100826</th>\n      <td>193565</td>\n      <td>Gintama: The Movie (2010)</td>\n      <td>2010</td>\n      <td>3.5</td>\n    </tr>\n    <tr>\n      <th>100827</th>\n      <td>193567</td>\n      <td>anohana: The Flower We Saw That Day - The Movi...</td>\n      <td>1900</td>\n      <td>3.0</td>\n    </tr>\n    <tr>\n      <th>100828</th>\n      <td>193571</td>\n      <td>Silver Spoon (2014)</td>\n      <td>1900</td>\n      <td>4.0</td>\n    </tr>\n    <tr>\n      <th>100829</th>\n      <td>193573</td>\n      <td>Love Live! The School Idol Movie (2015)</td>\n      <td>1900</td>\n      <td>4.0</td>\n    </tr>\n    <tr>\n      <th>100830</th>\n      <td>193579</td>\n      <td>Jon Stewart Has Left the Building (2015)</td>\n      <td>1900</td>\n      <td>3.5</td>\n    </tr>\n    <tr>\n      <th>100831</th>\n      <td>193581</td>\n      <td>Black Butler: Book of the Atlantic (2017)</td>\n      <td>1900</td>\n      <td>4.0</td>\n    </tr>\n    <tr>\n      <th>100832</th>\n      <td>193583</td>\n      <td>No Game No Life: Zero (2017)</td>\n      <td>1900</td>\n      <td>3.5</td>\n    </tr>\n    <tr>\n      <th>100833</th>\n      <td>193585</td>\n      <td>Flint (2017)</td>\n      <td>1900</td>\n      <td>3.5</td>\n    </tr>\n    <tr>\n      <th>100834</th>\n      <td>193587</td>\n      <td>Bungo Stray Dogs: Dead Apple (2018)</td>\n      <td>1900</td>\n      <td>3.5</td>\n    </tr>\n    <tr>\n      <th>100835</th>\n      <td>193609</td>\n      <td>Andrew Dice Clay: Dice Rules (1991)</td>\n      <td>1991</td>\n      <td>4.0</td>\n    </tr>\n  </tbody>\n</table>\n</div>"
     },
     "metadata": {},
     "execution_count": 19
    }
   ],
   "source": [
    "# объединяем два массива и удаляем ненужные столбцы\n",
    "df_total = pd.merge(df_movies, df_ratings, on='movieId')\n",
    "\n",
    "df_total = df_total.drop(['genres', 'userId', 'timestamp'], axis=1)\n",
    "\n",
    "df_total.tail(15)"
   ]
  },
  {
   "cell_type": "code",
   "execution_count": 20,
   "metadata": {},
   "outputs": [
    {
     "output_type": "execute_result",
     "data": {
      "text/plain": "    year    rating\n0   1957  4.039535\n1   1954  4.009191\n2   1962  3.969466\n3   1952  3.953125\n4   1972  3.944293\n5   1964  3.940160\n6   1974  3.935622\n7   1967  3.922572\n8   1975  3.879121\n9   1958  3.842424\n10  1971  3.841463\n11  1966  3.823684\n12  1950  3.813665\n13  1968  3.812212\n14  1977  3.810406",
      "text/html": "<div>\n<style scoped>\n    .dataframe tbody tr th:only-of-type {\n        vertical-align: middle;\n    }\n\n    .dataframe tbody tr th {\n        vertical-align: top;\n    }\n\n    .dataframe thead th {\n        text-align: right;\n    }\n</style>\n<table border=\"1\" class=\"dataframe\">\n  <thead>\n    <tr style=\"text-align: right;\">\n      <th></th>\n      <th>year</th>\n      <th>rating</th>\n    </tr>\n  </thead>\n  <tbody>\n    <tr>\n      <th>0</th>\n      <td>1957</td>\n      <td>4.039535</td>\n    </tr>\n    <tr>\n      <th>1</th>\n      <td>1954</td>\n      <td>4.009191</td>\n    </tr>\n    <tr>\n      <th>2</th>\n      <td>1962</td>\n      <td>3.969466</td>\n    </tr>\n    <tr>\n      <th>3</th>\n      <td>1952</td>\n      <td>3.953125</td>\n    </tr>\n    <tr>\n      <th>4</th>\n      <td>1972</td>\n      <td>3.944293</td>\n    </tr>\n    <tr>\n      <th>5</th>\n      <td>1964</td>\n      <td>3.940160</td>\n    </tr>\n    <tr>\n      <th>6</th>\n      <td>1974</td>\n      <td>3.935622</td>\n    </tr>\n    <tr>\n      <th>7</th>\n      <td>1967</td>\n      <td>3.922572</td>\n    </tr>\n    <tr>\n      <th>8</th>\n      <td>1975</td>\n      <td>3.879121</td>\n    </tr>\n    <tr>\n      <th>9</th>\n      <td>1958</td>\n      <td>3.842424</td>\n    </tr>\n    <tr>\n      <th>10</th>\n      <td>1971</td>\n      <td>3.841463</td>\n    </tr>\n    <tr>\n      <th>11</th>\n      <td>1966</td>\n      <td>3.823684</td>\n    </tr>\n    <tr>\n      <th>12</th>\n      <td>1950</td>\n      <td>3.813665</td>\n    </tr>\n    <tr>\n      <th>13</th>\n      <td>1968</td>\n      <td>3.812212</td>\n    </tr>\n    <tr>\n      <th>14</th>\n      <td>1977</td>\n      <td>3.810406</td>\n    </tr>\n  </tbody>\n</table>\n</div>"
     },
     "metadata": {},
     "execution_count": 20
    }
   ],
   "source": [
    "# группируем по году, рассчитываем средние значения и сортируем по убыванию рейтинга\n",
    "# выводим столбец с рейтингом и переиндексируем строки\n",
    "df_total.groupby('year').mean()[['rating']].sort_values('rating', ascending=False).reset_index().head(15)"
   ]
  },
  {
   "cell_type": "markdown",
   "metadata": {},
   "source": [
    "#### Полученные результаты подтверждают мнение о том, что \"раньше снимали настоящее кино, не то что сейчас\"(если, конечно, не учитывать субьективные факторы выставления рейтингов).\n",
    "\n"
   ]
  }
 ],
 "metadata": {
  "language_info": {
   "codemirror_mode": {
    "name": "ipython",
    "version": 3
   },
   "file_extension": ".py",
   "mimetype": "text/x-python",
   "name": "python",
   "nbconvert_exporter": "python",
   "pygments_lexer": "ipython3",
   "version": "3.7.2-final"
  },
  "orig_nbformat": 2,
  "kernelspec": {
   "name": "python37264bit756f231e437a4db2b965934ccae74f70",
   "display_name": "Python 3.7.2 64-bit"
  }
 },
 "nbformat": 4,
 "nbformat_minor": 2
}