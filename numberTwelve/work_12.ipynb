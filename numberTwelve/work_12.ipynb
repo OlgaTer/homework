{
 "cells": [
  {
   "cell_type": "markdown",
   "metadata": {},
   "source": [
    "### Задание 1\n",
    "\n",
    "Для датафрейма log из материалов занятия создайте столбец source_type по следующим правилам:\n",
    "- если источник traffic_source равен yandex или google, то в source_type ставится organic\n",
    "\n",
    "- для источников paid и email из России - ставим ad\n",
    "\n",
    "- для источников paid и email не из России - ставим other\n",
    "\n",
    "- все остальные варианты берем из traffic_source без изменений"
   ]
  },
  {
   "cell_type": "code",
   "execution_count": 1,
   "metadata": {},
   "outputs": [],
   "source": [
    "import pandas as pd"
   ]
  },
  {
   "cell_type": "code",
   "execution_count": 2,
   "metadata": {},
   "outputs": [
    {
     "output_type": "execute_result",
     "data": {
      "text/plain": "        timestamp    visit_id                                 url   region  \\\n18935  1550094308  e8cf2eb8e6  https://host.ru/a5dda93e70318570c0  Belarus   \n18936  1550094314  79530b9a67  https://host.ru/6fda01ec57f23abc9e   Russia   \n18937  1550094323  b3b634f824  https://host.ru/39fa884393666d45fc   Russia   \n\n          user_id traffic_source  \n18935  b85baa8c73         yandex  \n18936  e154b06121           paid  \n18937  7d27a58fb8          email  ",
      "text/html": "<div>\n<style scoped>\n    .dataframe tbody tr th:only-of-type {\n        vertical-align: middle;\n    }\n\n    .dataframe tbody tr th {\n        vertical-align: top;\n    }\n\n    .dataframe thead th {\n        text-align: right;\n    }\n</style>\n<table border=\"1\" class=\"dataframe\">\n  <thead>\n    <tr style=\"text-align: right;\">\n      <th></th>\n      <th>timestamp</th>\n      <th>visit_id</th>\n      <th>url</th>\n      <th>region</th>\n      <th>user_id</th>\n      <th>traffic_source</th>\n    </tr>\n  </thead>\n  <tbody>\n    <tr>\n      <th>18935</th>\n      <td>1550094308</td>\n      <td>e8cf2eb8e6</td>\n      <td>https://host.ru/a5dda93e70318570c0</td>\n      <td>Belarus</td>\n      <td>b85baa8c73</td>\n      <td>yandex</td>\n    </tr>\n    <tr>\n      <th>18936</th>\n      <td>1550094314</td>\n      <td>79530b9a67</td>\n      <td>https://host.ru/6fda01ec57f23abc9e</td>\n      <td>Russia</td>\n      <td>e154b06121</td>\n      <td>paid</td>\n    </tr>\n    <tr>\n      <th>18937</th>\n      <td>1550094323</td>\n      <td>b3b634f824</td>\n      <td>https://host.ru/39fa884393666d45fc</td>\n      <td>Russia</td>\n      <td>7d27a58fb8</td>\n      <td>email</td>\n    </tr>\n  </tbody>\n</table>\n</div>"
     },
     "metadata": {},
     "execution_count": 2
    }
   ],
   "source": [
    "# читаем файл с данными\n",
    "log = pd.read_csv('visit_log.csv', sep=';')\n",
    "log.tail(3)"
   ]
  },
  {
   "cell_type": "code",
   "execution_count": 3,
   "metadata": {},
   "outputs": [],
   "source": [
    "# источник traffic_source равен yandex или google -> в source_type ставим organic\n",
    "log.loc[log['traffic_source'].isin(['yandex', 'google']), 'source_type'] = 'organic'\n",
    "\n",
    "# источник равен paid + email из России -> ставим ad\n",
    "log.loc[(log['traffic_source'] == 'paid') & (log['region'] == 'Russia'), 'source_type'] = 'ad'\n",
    "\n",
    "# источник равен paid + email не из России -> ставим other\n",
    "log.loc[(log['traffic_source'] == 'paid') & (log['region'] != 'Russia'), 'source_type'] = 'other'\n",
    "\n",
    "# все остальные варианты -> значения из traffic_source без изменений\n",
    "# логика решения - это все варианты, кроме traffic_source равный yandex, google, paid\n",
    "log.loc[~log['traffic_source'].isin(['yandex', 'google', 'paid']), 'source_type'] = log['traffic_source']"
   ]
  },
  {
   "cell_type": "code",
   "execution_count": 4,
   "metadata": {},
   "outputs": [
    {
     "output_type": "execute_result",
     "data": {
      "text/plain": "        timestamp    visit_id                                 url     region  \\\n18928  1550094255  c7e4bce62a  https://host.ru/8880fd00cf23066541  Australia   \n18929  1550094260  39aeec73f8  https://host.ru/ee7c4e0674a284ee3f     Russia   \n18930  1550094269  f1b4590410  https://host.ru/a5dda93e70318570c0     Russia   \n18931  1550094269  a7e2dfd759  https://host.ru/ef57543002ce2a0f2a    Belarus   \n18932  1550094280  5001544772  https://host.ru/9f90e5c423a5f976d4     Russia   \n18933  1550094288  57e5ba8560  https://host.ru/c2382eb3d6afc8d0f3    Belarus   \n18934  1550094296  6f9389ec1b  https://host.ru/f1eb4601740d627ab0     Russia   \n18935  1550094308  e8cf2eb8e6  https://host.ru/a5dda93e70318570c0    Belarus   \n18936  1550094314  79530b9a67  https://host.ru/6fda01ec57f23abc9e     Russia   \n18937  1550094323  b3b634f824  https://host.ru/39fa884393666d45fc     Russia   \n\n          user_id traffic_source source_type  \n18928  e721d23ec6         yandex     organic  \n18929  9c832cf9d4         direct      direct  \n18930  7f59a1e6a7         direct      direct  \n18931  04fec64cda         direct      direct  \n18932  072148e3ba         google     organic  \n18933  98b19810d0           paid       other  \n18934  32ebb20c13           paid          ad  \n18935  b85baa8c73         yandex     organic  \n18936  e154b06121           paid          ad  \n18937  7d27a58fb8          email       email  ",
      "text/html": "<div>\n<style scoped>\n    .dataframe tbody tr th:only-of-type {\n        vertical-align: middle;\n    }\n\n    .dataframe tbody tr th {\n        vertical-align: top;\n    }\n\n    .dataframe thead th {\n        text-align: right;\n    }\n</style>\n<table border=\"1\" class=\"dataframe\">\n  <thead>\n    <tr style=\"text-align: right;\">\n      <th></th>\n      <th>timestamp</th>\n      <th>visit_id</th>\n      <th>url</th>\n      <th>region</th>\n      <th>user_id</th>\n      <th>traffic_source</th>\n      <th>source_type</th>\n    </tr>\n  </thead>\n  <tbody>\n    <tr>\n      <th>18928</th>\n      <td>1550094255</td>\n      <td>c7e4bce62a</td>\n      <td>https://host.ru/8880fd00cf23066541</td>\n      <td>Australia</td>\n      <td>e721d23ec6</td>\n      <td>yandex</td>\n      <td>organic</td>\n    </tr>\n    <tr>\n      <th>18929</th>\n      <td>1550094260</td>\n      <td>39aeec73f8</td>\n      <td>https://host.ru/ee7c4e0674a284ee3f</td>\n      <td>Russia</td>\n      <td>9c832cf9d4</td>\n      <td>direct</td>\n      <td>direct</td>\n    </tr>\n    <tr>\n      <th>18930</th>\n      <td>1550094269</td>\n      <td>f1b4590410</td>\n      <td>https://host.ru/a5dda93e70318570c0</td>\n      <td>Russia</td>\n      <td>7f59a1e6a7</td>\n      <td>direct</td>\n      <td>direct</td>\n    </tr>\n    <tr>\n      <th>18931</th>\n      <td>1550094269</td>\n      <td>a7e2dfd759</td>\n      <td>https://host.ru/ef57543002ce2a0f2a</td>\n      <td>Belarus</td>\n      <td>04fec64cda</td>\n      <td>direct</td>\n      <td>direct</td>\n    </tr>\n    <tr>\n      <th>18932</th>\n      <td>1550094280</td>\n      <td>5001544772</td>\n      <td>https://host.ru/9f90e5c423a5f976d4</td>\n      <td>Russia</td>\n      <td>072148e3ba</td>\n      <td>google</td>\n      <td>organic</td>\n    </tr>\n    <tr>\n      <th>18933</th>\n      <td>1550094288</td>\n      <td>57e5ba8560</td>\n      <td>https://host.ru/c2382eb3d6afc8d0f3</td>\n      <td>Belarus</td>\n      <td>98b19810d0</td>\n      <td>paid</td>\n      <td>other</td>\n    </tr>\n    <tr>\n      <th>18934</th>\n      <td>1550094296</td>\n      <td>6f9389ec1b</td>\n      <td>https://host.ru/f1eb4601740d627ab0</td>\n      <td>Russia</td>\n      <td>32ebb20c13</td>\n      <td>paid</td>\n      <td>ad</td>\n    </tr>\n    <tr>\n      <th>18935</th>\n      <td>1550094308</td>\n      <td>e8cf2eb8e6</td>\n      <td>https://host.ru/a5dda93e70318570c0</td>\n      <td>Belarus</td>\n      <td>b85baa8c73</td>\n      <td>yandex</td>\n      <td>organic</td>\n    </tr>\n    <tr>\n      <th>18936</th>\n      <td>1550094314</td>\n      <td>79530b9a67</td>\n      <td>https://host.ru/6fda01ec57f23abc9e</td>\n      <td>Russia</td>\n      <td>e154b06121</td>\n      <td>paid</td>\n      <td>ad</td>\n    </tr>\n    <tr>\n      <th>18937</th>\n      <td>1550094323</td>\n      <td>b3b634f824</td>\n      <td>https://host.ru/39fa884393666d45fc</td>\n      <td>Russia</td>\n      <td>7d27a58fb8</td>\n      <td>email</td>\n      <td>email</td>\n    </tr>\n  </tbody>\n</table>\n</div>"
     },
     "metadata": {},
     "execution_count": 4
    }
   ],
   "source": [
    "log.tail(10)"
   ]
  },
  {
   "cell_type": "code",
   "execution_count": 5,
   "metadata": {},
   "outputs": [
    {
     "output_type": "execute_result",
     "data": {
      "text/plain": "direct     7013\norganic    5407\nemail      3875\nad         1581\nother      1062\nName: source_type, dtype: int64"
     },
     "metadata": {},
     "execution_count": 5
    }
   ],
   "source": [
    "log.source_type.value_counts()"
   ]
  },
  {
   "cell_type": "markdown",
   "metadata": {},
   "source": [
    "### Задание 2\n",
    "\n",
    "В файле URLs.txt содержатся url страниц новостного сайта. Вам необходимо отфильтровать его по адресам страниц с текстами новостей.\n",
    "\n",
    "Известно, что шаблон страницы новостей имеет внутри url следующую конструкцию: /, затем 8 цифр, затем дефис.\n",
    "\n",
    "Выполните следующие действия:\n",
    "\n",
    "1. Прочитайте содержимое файла с датафрейм.\n",
    "\n",
    "2. Отфильтруйте страницы с текстом новостей, используя метод str.contains и регулярное выражение в соответствии с заданным шаблоном."
   ]
  },
  {
   "cell_type": "code",
   "execution_count": 6,
   "metadata": {},
   "outputs": [
    {
     "output_type": "execute_result",
     "data": {
      "text/plain": "                                                  url\n88  /cis/35984145-kreml-prokommentiroval-soobschen...\n89  /video/36071019-olimpiyskie-obekty-rio-prevrat...\n90  /science/36151301-nazvano-posledstvie-zloupotr...\n91  /incidents/36027330-vospitatelnitsu-zatravili-...\n92  /world/36103095-dominikanskih-zhurnalistov-ubi...",
      "text/html": "<div>\n<style scoped>\n    .dataframe tbody tr th:only-of-type {\n        vertical-align: middle;\n    }\n\n    .dataframe tbody tr th {\n        vertical-align: top;\n    }\n\n    .dataframe thead th {\n        text-align: right;\n    }\n</style>\n<table border=\"1\" class=\"dataframe\">\n  <thead>\n    <tr style=\"text-align: right;\">\n      <th></th>\n      <th>url</th>\n    </tr>\n  </thead>\n  <tbody>\n    <tr>\n      <th>88</th>\n      <td>/cis/35984145-kreml-prokommentiroval-soobschen...</td>\n    </tr>\n    <tr>\n      <th>89</th>\n      <td>/video/36071019-olimpiyskie-obekty-rio-prevrat...</td>\n    </tr>\n    <tr>\n      <th>90</th>\n      <td>/science/36151301-nazvano-posledstvie-zloupotr...</td>\n    </tr>\n    <tr>\n      <th>91</th>\n      <td>/incidents/36027330-vospitatelnitsu-zatravili-...</td>\n    </tr>\n    <tr>\n      <th>92</th>\n      <td>/world/36103095-dominikanskih-zhurnalistov-ubi...</td>\n    </tr>\n  </tbody>\n</table>\n</div>"
     },
     "metadata": {},
     "execution_count": 6
    }
   ],
   "source": [
    "# читаем файл с данными\n",
    "data_news = pd.read_csv('URLs.txt', sep='\\t')\n",
    "data_news.tail()"
   ]
  },
  {
   "cell_type": "code",
   "execution_count": 7,
   "metadata": {},
   "outputs": [],
   "source": [
    "# делаем импорт библиотеки для работы с regex\n",
    "import re"
   ]
  },
  {
   "cell_type": "code",
   "execution_count": 8,
   "metadata": {},
   "outputs": [
    {
     "output_type": "execute_result",
     "data": {
      "text/plain": "    index                                                url\n79     88  /cis/35984145-kreml-prokommentiroval-soobschen...\n80     89  /video/36071019-olimpiyskie-obekty-rio-prevrat...\n81     90  /science/36151301-nazvano-posledstvie-zloupotr...\n82     91  /incidents/36027330-vospitatelnitsu-zatravili-...\n83     92  /world/36103095-dominikanskih-zhurnalistov-ubi...",
      "text/html": "<div>\n<style scoped>\n    .dataframe tbody tr th:only-of-type {\n        vertical-align: middle;\n    }\n\n    .dataframe tbody tr th {\n        vertical-align: top;\n    }\n\n    .dataframe thead th {\n        text-align: right;\n    }\n</style>\n<table border=\"1\" class=\"dataframe\">\n  <thead>\n    <tr style=\"text-align: right;\">\n      <th></th>\n      <th>index</th>\n      <th>url</th>\n    </tr>\n  </thead>\n  <tbody>\n    <tr>\n      <th>79</th>\n      <td>88</td>\n      <td>/cis/35984145-kreml-prokommentiroval-soobschen...</td>\n    </tr>\n    <tr>\n      <th>80</th>\n      <td>89</td>\n      <td>/video/36071019-olimpiyskie-obekty-rio-prevrat...</td>\n    </tr>\n    <tr>\n      <th>81</th>\n      <td>90</td>\n      <td>/science/36151301-nazvano-posledstvie-zloupotr...</td>\n    </tr>\n    <tr>\n      <th>82</th>\n      <td>91</td>\n      <td>/incidents/36027330-vospitatelnitsu-zatravili-...</td>\n    </tr>\n    <tr>\n      <th>83</th>\n      <td>92</td>\n      <td>/world/36103095-dominikanskih-zhurnalistov-ubi...</td>\n    </tr>\n  </tbody>\n</table>\n</div>"
     },
     "metadata": {},
     "execution_count": 8
    }
   ],
   "source": [
    "# фильтруем строки по шаблону\n",
    "data_news[data_news['url'].str.contains(r'/\\d{8}-', regex=True)].reset_index().tail()"
   ]
  },
  {
   "cell_type": "markdown",
   "metadata": {},
   "source": [
    "### Задание 3\n",
    "\n",
    "В датафрейме data создайте столбец lemmas, в котором вычислите леммы поисковых запросов из столбца keyword. Леммы должны иметь строковый тип.\n",
    "\n",
    "data = pd.DataFrame(\n",
    "    \n",
    "    {'keyword': ['курс гривны к рублю', 'доллары в рубли', '100 долларов в рублях', 'курс рубля'],\n",
    "    \n",
    "    'shows': [125076, 114173, 97534, 53546]}\n",
    "    \n",
    "    )"
   ]
  },
  {
   "cell_type": "code",
   "execution_count": 9,
   "metadata": {},
   "outputs": [
    {
     "output_type": "execute_result",
     "data": {
      "text/plain": "                 keyword   shows\n0    курс гривны к рублю  125076\n1        доллары в рубли  114173\n2  100 долларов в рублях   97534\n3             курс рубля   53546",
      "text/html": "<div>\n<style scoped>\n    .dataframe tbody tr th:only-of-type {\n        vertical-align: middle;\n    }\n\n    .dataframe tbody tr th {\n        vertical-align: top;\n    }\n\n    .dataframe thead th {\n        text-align: right;\n    }\n</style>\n<table border=\"1\" class=\"dataframe\">\n  <thead>\n    <tr style=\"text-align: right;\">\n      <th></th>\n      <th>keyword</th>\n      <th>shows</th>\n    </tr>\n  </thead>\n  <tbody>\n    <tr>\n      <th>0</th>\n      <td>курс гривны к рублю</td>\n      <td>125076</td>\n    </tr>\n    <tr>\n      <th>1</th>\n      <td>доллары в рубли</td>\n      <td>114173</td>\n    </tr>\n    <tr>\n      <th>2</th>\n      <td>100 долларов в рублях</td>\n      <td>97534</td>\n    </tr>\n    <tr>\n      <th>3</th>\n      <td>курс рубля</td>\n      <td>53546</td>\n    </tr>\n  </tbody>\n</table>\n</div>"
     },
     "metadata": {},
     "execution_count": 9
    }
   ],
   "source": [
    "# исходный датафрейм\n",
    "data = pd.DataFrame( \n",
    "    {'keyword': ['курс гривны к рублю', 'доллары в рубли', '100 долларов в рублях', 'курс рубля'],      'shows': [125076, 114173, 97534, 53546] } \n",
    "    )\n",
    "\n",
    "data"
   ]
  },
  {
   "cell_type": "code",
   "execution_count": 10,
   "metadata": {},
   "outputs": [],
   "source": [
    "# делаем импорт библиотеки для работы со словами\n",
    "from pymystem3 import Mystem"
   ]
  },
  {
   "cell_type": "code",
   "execution_count": 11,
   "metadata": {},
   "outputs": [],
   "source": [
    "m = Mystem()"
   ]
  },
  {
   "cell_type": "code",
   "execution_count": 12,
   "metadata": {},
   "outputs": [],
   "source": [
    "# первый вариант решения\n",
    "def word_lemma(phrase):\n",
    "    \"\"\" Приведение слов фразы к нормальному виду (вычисление лемм) \"\"\"\n",
    "    \n",
    "    lem = m.lemmatize(phrase)\n",
    "    return ''.join(lem).strip()"
   ]
  },
  {
   "cell_type": "code",
   "execution_count": 13,
   "metadata": {},
   "outputs": [
    {
     "output_type": "execute_result",
     "data": {
      "text/plain": "                 keyword   shows             lemmas_1\n0    курс гривны к рублю  125076  курс гривна к рубль\n1        доллары в рубли  114173       доллар в рубль\n2  100 долларов в рублях   97534   100 доллар в рубль\n3             курс рубля   53546           курс рубль",
      "text/html": "<div>\n<style scoped>\n    .dataframe tbody tr th:only-of-type {\n        vertical-align: middle;\n    }\n\n    .dataframe tbody tr th {\n        vertical-align: top;\n    }\n\n    .dataframe thead th {\n        text-align: right;\n    }\n</style>\n<table border=\"1\" class=\"dataframe\">\n  <thead>\n    <tr style=\"text-align: right;\">\n      <th></th>\n      <th>keyword</th>\n      <th>shows</th>\n      <th>lemmas_1</th>\n    </tr>\n  </thead>\n  <tbody>\n    <tr>\n      <th>0</th>\n      <td>курс гривны к рублю</td>\n      <td>125076</td>\n      <td>курс гривна к рубль</td>\n    </tr>\n    <tr>\n      <th>1</th>\n      <td>доллары в рубли</td>\n      <td>114173</td>\n      <td>доллар в рубль</td>\n    </tr>\n    <tr>\n      <th>2</th>\n      <td>100 долларов в рублях</td>\n      <td>97534</td>\n      <td>100 доллар в рубль</td>\n    </tr>\n    <tr>\n      <th>3</th>\n      <td>курс рубля</td>\n      <td>53546</td>\n      <td>курс рубль</td>\n    </tr>\n  </tbody>\n</table>\n</div>"
     },
     "metadata": {},
     "execution_count": 13
    }
   ],
   "source": [
    "data['lemmas_1'] = data['keyword'].apply(word_lemma)\n",
    "data"
   ]
  },
  {
   "cell_type": "code",
   "execution_count": 17,
   "metadata": {},
   "outputs": [
    {
     "output_type": "execute_result",
     "data": {
      "text/plain": "                 keyword   shows             lemmas_1             lemmas_2\n0    курс гривны к рублю  125076  курс гривна к рубль  курс гривна к рубль\n1        доллары в рубли  114173       доллар в рубль       доллар в рубль\n2  100 долларов в рублях   97534   100 доллар в рубль   100 доллар в рубль\n3             курс рубля   53546           курс рубль           курс рубль",
      "text/html": "<div>\n<style scoped>\n    .dataframe tbody tr th:only-of-type {\n        vertical-align: middle;\n    }\n\n    .dataframe tbody tr th {\n        vertical-align: top;\n    }\n\n    .dataframe thead th {\n        text-align: right;\n    }\n</style>\n<table border=\"1\" class=\"dataframe\">\n  <thead>\n    <tr style=\"text-align: right;\">\n      <th></th>\n      <th>keyword</th>\n      <th>shows</th>\n      <th>lemmas_1</th>\n      <th>lemmas_2</th>\n    </tr>\n  </thead>\n  <tbody>\n    <tr>\n      <th>0</th>\n      <td>курс гривны к рублю</td>\n      <td>125076</td>\n      <td>курс гривна к рубль</td>\n      <td>курс гривна к рубль</td>\n    </tr>\n    <tr>\n      <th>1</th>\n      <td>доллары в рубли</td>\n      <td>114173</td>\n      <td>доллар в рубль</td>\n      <td>доллар в рубль</td>\n    </tr>\n    <tr>\n      <th>2</th>\n      <td>100 долларов в рублях</td>\n      <td>97534</td>\n      <td>100 доллар в рубль</td>\n      <td>100 доллар в рубль</td>\n    </tr>\n    <tr>\n      <th>3</th>\n      <td>курс рубля</td>\n      <td>53546</td>\n      <td>курс рубль</td>\n      <td>курс рубль</td>\n    </tr>\n  </tbody>\n</table>\n</div>"
     },
     "metadata": {},
     "execution_count": 17
    }
   ],
   "source": [
    "# второй вариант решения\n",
    "data['lemmas_2'] = data.apply(lambda data: ''.join(m.lemmatize(str(data['keyword']))).strip(), axis=1)\n",
    "data"
   ]
  },
  {
   "cell_type": "code",
   "execution_count": null,
   "metadata": {},
   "outputs": [],
   "source": []
  }
 ],
 "metadata": {
  "language_info": {
   "codemirror_mode": {
    "name": "ipython",
    "version": 3
   },
   "file_extension": ".py",
   "mimetype": "text/x-python",
   "name": "python",
   "nbconvert_exporter": "python",
   "pygments_lexer": "ipython3",
   "version": "3.7.2-final"
  },
  "orig_nbformat": 2,
  "kernelspec": {
   "name": "python37264bit756f231e437a4db2b965934ccae74f70",
   "display_name": "Python 3.7.2 64-bit"
  }
 },
 "nbformat": 4,
 "nbformat_minor": 2
}