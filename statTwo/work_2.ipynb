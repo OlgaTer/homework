{
 "cells": [
  {
   "cell_type": "code",
   "execution_count": 1,
   "metadata": {},
   "outputs": [],
   "source": [
    "import numpy as np\n",
    "from scipy.optimize import approx_fprime, minimize"
   ]
  },
  {
   "cell_type": "markdown",
   "metadata": {},
   "source": [
    "**Задания, которые надо сделать \"на бумажке\", выполнены здесь в LaTeX, т.к. было интересно разобраться с его синтаксисом.**"
   ]
  },
  {
   "cell_type": "markdown",
   "metadata": {},
   "source": [
    "### Задание 1\n",
    "Придумайте функции со следующими свойствами (в a) b) c) область определения X любая, какая вам удобна, главное - функция с нужными свойствами):\n",
    "\n",
    "a) бесконечное количество локальных экстремумов:\n",
    "\n",
    "$f(x) = sinx$ \n",
    "\n",
    "(график синусоиды)\n",
    "\n",
    "b) 2 локальных экстремума:\n",
    "\n",
    "$f(x) = \\frac{x^2+x-2}{x-2}$ \n",
    "\n",
    "(в точке х=2 - разрыв функции, производной не существует; 2 экстремума - в точке х=0 (это max) и в точке х=4 (это min))\n",
    "\n",
    "с) 3 локальных экстремума:\n",
    "\n",
    "$f(x) = \\frac{1}{4}x^4 - \\frac{2}{3}x^3 - \\frac{3}{2}x^2 + 2$  \n",
    "\n",
    "(3 экстремума: в точках х=-1 и х=3 (это min) и х=0 (это max))\n",
    "\n",
    "d*) область определения функции - 1 точка:\n",
    "\n",
    "$f(x) = y$, где $x = const$"
   ]
  },
  {
   "cell_type": "markdown",
   "metadata": {},
   "source": [
    "### Задание 2\n",
    "Посчитайте 1-ую и 2-ую производные функции (на бумажке):\n",
    "\n",
    "$f(x) = sin^2(2x+1)$\n"
   ]
  },
  {
   "cell_type": "markdown",
   "metadata": {},
   "source": [
    "первая производная:\n",
    "\n",
    "$f' = (sin^2(2x+1))' = 2sin(2x+1) \\cdot (sin(2x+1))' = 2sin(2x+1) \\cdot cos(2x+1) \\cdot (2x+1)' =$\n",
    "\n",
    "$= 2sin(2x+1) \\cdot cos(2x+1) \\cdot 2 = 4sin(2x+1) \\cdot cos(2x+1)$\n"
   ]
  },
  {
   "cell_type": "markdown",
   "metadata": {},
   "source": [
    "вторая производная:\n",
    "\n",
    "$f'' = (4sin(2x+1) \\cdot cos(2x+1))' = 4(sin(2x+1) \\cdot cos(2x+1))' =$\n",
    "\n",
    "$= 4((sin(2x+1))' \\cdot cos(2x+1) + sin(2x+1) \\cdot (cos(2x+1))') =$\n",
    "\n",
    "$= 4(cos(2x+1) \\cdot (2x+1)' \\cdot cos(2x+1) + sin(2x+1) \\cdot (-sin(2x+1)) \\cdot (2x+1)') =$\n",
    "\n",
    "$= 4(2cos^2(2x+1) -2sin^2(2x+1)) = 4 \\cdot 2 (cos^2(2x+1) - sin^2(2x+1)) =$\n",
    "\n",
    "$= 8(cos^2(2x+1) - sin^2(2x+1))$"
   ]
  },
  {
   "cell_type": "markdown",
   "metadata": {},
   "source": [
    "### Задание 3\n",
    "Посчитайте частные производные функции в точкe\n",
    "(на бумажке или в LaTeX и на numpy):"
   ]
  },
  {
   "cell_type": "markdown",
   "metadata": {},
   "source": [
    "$f(x,y)=2x^2y^3 + 1/x + y^2x + 7$ в точке $(1,2)$"
   ]
  },
  {
   "cell_type": "markdown",
   "metadata": {},
   "source": [
    "производная функции по Х:\n",
    "\n",
    "$f'_x = 2y^3 \\cdot 2x - \\frac{1}{x^2} + y^2 = 4xy^3 - \\frac{1}{x^2} + y^2$"
   ]
  },
  {
   "cell_type": "markdown",
   "metadata": {},
   "source": [
    "производная функции по У:\n",
    "\n",
    "$f'_y = 2x^2 \\cdot 3y^2 + x \\cdot 2y = 6x^2y^2 + 2xy$"
   ]
  },
  {
   "cell_type": "markdown",
   "metadata": {},
   "source": [
    "посчитаем значения производных в заданной точке:\n",
    "\n",
    "$f'_x(1,2) = 4 \\cdot 1 \\cdot 2^3 - \\frac{1}{1^2} + 2^2 = 32 - 1 + 4 = 35$\n",
    "\n",
    "$f'_y(1,2) = 6 \\cdot 1^2 \\cdot 2^2 + 2 \\cdot 1 \\cdot 2 = 24 + 4 = 28$\n",
    "\n",
    "$grad_f(1,2) = (35,28)$"
   ]
  },
  {
   "cell_type": "markdown",
   "metadata": {},
   "source": [
    "Проверим полученный результат с помощью методов numpy:"
   ]
  },
  {
   "cell_type": "code",
   "execution_count": 2,
   "metadata": {},
   "outputs": [],
   "source": [
    "# создадим функцию, где х[0] - это Х, а x[1] - это У\n",
    "\n",
    "def function(x):\n",
    "    return 2 * x[0]**2 * x[1]**3 + 1/x[0] + x[1]**2 * x[0] + 7"
   ]
  },
  {
   "cell_type": "code",
   "execution_count": 3,
   "metadata": {},
   "outputs": [
    {
     "output_type": "execute_result",
     "data": {
      "text/plain": "array([35., 28.])"
     },
     "metadata": {},
     "execution_count": 3
    }
   ],
   "source": [
    "# \"х\" - массив из двух элементов, его создадим\n",
    "# из координат заданной точки и найдем частные производные\n",
    "\n",
    "x = np.array([1, 2])\n",
    "approx_fprime(x, function, 1e-9)"
   ]
  },
  {
   "cell_type": "markdown",
   "metadata": {},
   "source": [
    "Результат вычислений совпал. Оба значения производных получились со знаком \"+\", а это говорит о том, что заданная функция возрастает в точке (1,2) и по оси Х, и по оси У. При этом \"подъем\" по оси Х более крутой, т.к. значение производной по \"х\" больше (оно определяется |по модулю|)."
   ]
  },
  {
   "cell_type": "markdown",
   "metadata": {},
   "source": [
    "### Задание 4\n",
    "\n",
    "Градиентный спуск своими руками"
   ]
  },
  {
   "cell_type": "code",
   "execution_count": 4,
   "metadata": {},
   "outputs": [],
   "source": [
    "# задана функция\n",
    "\n",
    "def f(x):\n",
    "    return (x[0]**2) + (x[1]**2)"
   ]
  },
  {
   "cell_type": "code",
   "execution_count": 5,
   "metadata": {},
   "outputs": [],
   "source": [
    "# задан массив Х (x[0], x[1]) и шаг градиентного спуска\n",
    "\n",
    "x = np.array([100, 200])\n",
    "lr = 0.1"
   ]
  },
  {
   "cell_type": "code",
   "execution_count": 6,
   "metadata": {},
   "outputs": [],
   "source": [
    "# градиентный спуск за 100 заданных шагов:\n",
    "# от начальной точки \"х\" спускаемся вниз с шагом lr в направлении grad (частной производной)\n",
    "\n",
    "for i in range(100):\n",
    "    \n",
    "    grad = approx_fprime(x, f, 1e-8)\n",
    "    x = x - lr * grad"
   ]
  },
  {
   "cell_type": "code",
   "execution_count": 7,
   "metadata": {
    "tags": []
   },
   "outputs": [
    {
     "output_type": "stream",
     "name": "stdout",
     "text": "Минимум достигается в:  [1.53703462e-08 3.57407209e-08]\nЗначение функции в минимуме:  1.5136466716686949e-15\n"
    }
   ],
   "source": [
    "print(\"Минимум достигается в: \", x)\n",
    "print(\"Значение функции в минимуме: \", f(x))\n"
   ]
  },
  {
   "cell_type": "markdown",
   "metadata": {},
   "source": [
    "Проверка с помощью встроенной функции scipy: "
   ]
  },
  {
   "cell_type": "code",
   "execution_count": 8,
   "metadata": {
    "tags": []
   },
   "outputs": [
    {
     "output_type": "stream",
     "name": "stdout",
     "text": "Проверка: минимум достигается в:  [1.53703462e-08 3.57407209e-08]\nПроверка: значение функции в минимуме:  1.5136466716686949e-15\n"
    }
   ],
   "source": [
    "# минимизируем заданную функцию с помощью метода minimize\n",
    "\n",
    "result = minimize(f, x)\n",
    "print(\"Проверка: минимум достигается в: \", result.x)\n",
    "print(\"Проверка: значение функции в минимуме: \", result.fun)\n"
   ]
  },
  {
   "cell_type": "markdown",
   "metadata": {},
   "source": [
    "Значение заданной функции в минимуме, полученное с помощью и градиентного спуска, и встроенной функции scipy, - одинаковое: ноль."
   ]
  }
 ],
 "metadata": {
  "kernelspec": {
   "display_name": "Python 3",
   "language": "python",
   "name": "python3"
  },
  "language_info": {
   "codemirror_mode": {
    "name": "ipython",
    "version": 3
   },
   "file_extension": ".py",
   "mimetype": "text/x-python",
   "name": "python",
   "nbconvert_exporter": "python",
   "pygments_lexer": "ipython3",
   "version": "3.7.2-final"
  }
 },
 "nbformat": 4,
 "nbformat_minor": 2
}