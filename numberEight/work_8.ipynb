{
 "cells": [
  {
   "cell_type": "markdown",
   "metadata": {},
   "source": [
    "### Задание 1.\n",
    " \n",
    "Напишите функцию, которая принимает на вход строку и проверяет является ли она валидным транспортным номером. Если да, то функция должна возвращать отдельно номер и регион."
   ]
  },
  {
   "cell_type": "code",
   "execution_count": 97,
   "metadata": {},
   "outputs": [],
   "source": [
    "import re"
   ]
  },
  {
   "cell_type": "code",
   "execution_count": 98,
   "metadata": {},
   "outputs": [],
   "source": [
    "# для проверки на валидность номер пишется в одинарных кавычках\n",
    "car_number = 'Т24МУ750'"
   ]
  },
  {
   "cell_type": "code",
   "execution_count": 99,
   "metadata": {},
   "outputs": [],
   "source": [
    "def number_car():\n",
    "    \"\"\" Определяет валидность российского регистрационного знака\n",
    "    легкового и грузового транспортного средства \"\"\"\n",
    "\n",
    "    # допустимые буквы и \"формат\" номера взяты из Википедии\n",
    "    pattern = re.findall(r'[АВЕКМНОРСТУХ](\\d{3})[АВЕКМНОРСТУХ]{2}(\\d{2,3})', car_number)\n",
    "\n",
    "    if pattern:\n",
    "        print(pattern)\n",
    "        return\n",
    "    else:\n",
    "        print('Попробуйте еще раз')\n",
    "    "
   ]
  },
  {
   "cell_type": "code",
   "execution_count": 100,
   "metadata": {
    "tags": []
   },
   "outputs": [
    {
     "output_type": "stream",
     "name": "stdout",
     "text": "Попробуйте еще раз\n"
    }
   ],
   "source": [
    "number_car()"
   ]
  },
  {
   "cell_type": "markdown",
   "metadata": {},
   "source": [
    "### Задание 2.\n",
    "\n",
    "Постарайтесь написать (в крайнем случае найти) самый полный шаблон для проверки e-mail адресов через регулярное выражение, которая проверяет e-mail адрес на валидность. \n",
    "\n",
    "Можно руководствоваться следующими минимальными требованиями:\n",
    "\n",
    "• адрес должен содержать специальный символ \"@\", который отделяет имя пользователя почтовой системы от доменного имени;\n",
    "\n",
    "• адрес не должен содержать следующие символы: \"пробел\", \",\", \":\", \";\", \"!\", \"#\", \"%\", \"*\", \"(\", \")\", \"=\", \"+\", \"{\", \"}\", \" \" \", \" ' \", \" / \", \" \\ \" и \"|\";\n",
    "\n",
    "• адрес должен состоять только из латинских символов;\n",
    "\n",
    "• после символа \"@\" должна быть как минимум одна \".\";\n",
    "\n",
    "• после последней точки должно быть не менее 2-х и не более 4-х символов, причем наличие цифр не допускается;\n",
    "\n",
    "• между последней точкой и символом \"@\" должно быть не менее 2-х символов;\n",
    "\n",
    "• слева от \"@\" должно быть не менее четырех символов.\n"
   ]
  },
  {
   "cell_type": "code",
   "execution_count": 106,
   "metadata": {},
   "outputs": [],
   "source": [
    "# для проверки на валидность адрес пишется в одинарных кавычках\n",
    "mail = 'Mr.Kolobok.Ivanovich@gmail.com'"
   ]
  },
  {
   "cell_type": "code",
   "execution_count": 107,
   "metadata": {},
   "outputs": [],
   "source": [
    "# в e-mail адресах содержатся латинские буквы, цифры, знаки подчеркивания и тире\n",
    "# именно это и отражено в регулярном выражении\n",
    "# необходимости отдельно указывать символы, которых не должно быть (указаны в условии задачи), нет\n",
    "\n",
    "itog = re.fullmatch(r'([a-z0-9_-]+\\.)*[a-z0-9_-]{4,}@[a-z0-9_-]{2,}(\\.[a-z0-9_-]+)*\\.[a-z]{2,4}', mail, flags=re.IGNORECASE).group(0)"
   ]
  },
  {
   "cell_type": "code",
   "execution_count": 108,
   "metadata": {},
   "outputs": [
    {
     "output_type": "execute_result",
     "data": {
      "text/plain": "'Mr.Kolobok.Ivanovich@gmail.com'"
     },
     "metadata": {},
     "execution_count": 108
    }
   ],
   "source": [
    "itog"
   ]
  },
  {
   "cell_type": "markdown",
   "metadata": {},
   "source": [
    "### Задание 3.\n",
    "\n",
    "Напишите функцию, которая будет удалять все последовательные повторы слов из заданной строки при помощи регулярных выражений."
   ]
  },
  {
   "cell_type": "code",
   "execution_count": 109,
   "metadata": {},
   "outputs": [],
   "source": [
    "# для проверки на валидность строка пишется в одинарных кавычках\n",
    "words = 'Mama, mama mama cleaned, cleaned? cleaned, Cleaned the! the windows, windows windows.'"
   ]
  },
  {
   "cell_type": "code",
   "execution_count": 110,
   "metadata": {},
   "outputs": [],
   "source": [
    "def remove_word(words):\n",
    "    \n",
    "    # заменяем в строке любые символы (кроме букв, цифр и подчеркивания) на пробелы и\n",
    "    # удаляем лишние пробелы (в конце строки)\n",
    "    splited_words = re.sub(r'\\W+', ' ', words).strip()\n",
    "   \n",
    "    # удаляем повторяющиеся слова\n",
    "    result = re.sub(r'(\\w+)(\\s\\1)+', r'\\1', splited_words, flags=re.IGNORECASE)\n",
    "    return result"
   ]
  },
  {
   "cell_type": "code",
   "execution_count": 111,
   "metadata": {},
   "outputs": [
    {
     "output_type": "execute_result",
     "data": {
      "text/plain": "'Mama cleaned the windows'"
     },
     "metadata": {},
     "execution_count": 111
    }
   ],
   "source": [
    "remove_word(words)"
   ]
  },
  {
   "cell_type": "markdown",
   "metadata": {},
   "source": [
    "### Задание 4.\n",
    " \n",
    "Напишите функцию, которая будет проверять номер сотового телефона на валидность: если он валиден, то переводить его в формат: +7(xxx)-xxx-xx-xx\n",
    "\n",
    "Постарайтесь предусмотреть как можно больше адекватных форматов изначального ввода номера. Примеры валидных форматов:\n",
    "\n",
    "• +7 955 555-55-55\n",
    "\n",
    "• 9555555555\n",
    "\n",
    "• 8(955)555-55-55\n",
    "\n",
    "• +7 955 555 55 55\n",
    "\n",
    "• 7(955) 555-55-55\n",
    "\n",
    "• +7 955+555+55+55"
   ]
  },
  {
   "cell_type": "code",
   "execution_count": 121,
   "metadata": {},
   "outputs": [],
   "source": [
    "# для проверки на валидность номер пишется в одинарных кавычках\n",
    "number = '+7 955+555+55+55'"
   ]
  },
  {
   "cell_type": "code",
   "execution_count": 122,
   "metadata": {},
   "outputs": [],
   "source": [
    "def num_new(number):\n",
    "    \n",
    "    # проверка номера на валидность (на основе шести номеров из условия задачи)\n",
    "    forma = r'\\+?\\d?[(]?\\s?\\d{3}[)]?[\\s\\+]?\\d{3}[\\s\\-\\+]?\\d{2}[\\s\\-\\+]?\\d{2}'\n",
    "    \n",
    "    if re.findall(forma, number):\n",
    "        # удаляем в номере любые символы (кроме букв, цифр и подчеркивания)\n",
    "        line = re.sub(r'\\W+', '', number)\n",
    "        \n",
    "        # проверяем полученную строку на количество цифр и переводим в требуемый формат\n",
    "        if len(line) == 11:\n",
    "            print(f'+7({line[1:4]})-{line[4:7]}-{line[7:9]}-{line[9:]}')\n",
    "            \n",
    "        if len(line) == 10:\n",
    "            print(f'+7({line[0:3]})-{line[3:6]}-{line[6:8]}-{line[8:]}')\n",
    "    \n",
    "    else:\n",
    "        print('Номер не корректный')"
   ]
  },
  {
   "cell_type": "code",
   "execution_count": 123,
   "metadata": {
    "tags": []
   },
   "outputs": [
    {
     "output_type": "stream",
     "name": "stdout",
     "text": "+7(955)-555-55-55\n"
    }
   ],
   "source": [
    "num_new(number)"
   ]
  },
  {
   "cell_type": "code",
   "execution_count": null,
   "metadata": {},
   "outputs": [],
   "source": []
  }
 ],
 "metadata": {
  "language_info": {
   "codemirror_mode": {
    "name": "ipython",
    "version": 3
   },
   "file_extension": ".py",
   "mimetype": "text/x-python",
   "name": "python",
   "nbconvert_exporter": "python",
   "pygments_lexer": "ipython3",
   "version": "3.7.2-final"
  },
  "orig_nbformat": 2,
  "kernelspec": {
   "name": "python37264bit756f231e437a4db2b965934ccae74f70",
   "display_name": "Python 3.7.2 64-bit"
  }
 },
 "nbformat": 4,
 "nbformat_minor": 2
}