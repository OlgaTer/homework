{
 "cells": [
  {
   "cell_type": "markdown",
   "metadata": {},
   "source": [
    "### Задание 1\n",
    "\n",
    "Создайте numpy array с элементами от числа N до 0 (например, для N = 10 это будет array\\(\\[9, 8, 7, 6, 5, 4, 3, 2, 1, 0\\]\\)\\)."
   ]
  },
  {
   "cell_type": "code",
   "execution_count": 28,
   "metadata": {},
   "outputs": [],
   "source": [
    "import numpy as np"
   ]
  },
  {
   "cell_type": "code",
   "execution_count": 111,
   "metadata": {
    "tags": []
   },
   "outputs": [
    {
     "output_type": "stream",
     "name": "stdout",
     "text": "Вы ввели число 10\n"
    },
    {
     "output_type": "execute_result",
     "data": {
      "text/plain": "array([9, 8, 7, 6, 5, 4, 3, 2, 1, 0])"
     },
     "metadata": {},
     "execution_count": 111
    }
   ],
   "source": [
    "user_input = int(input('Введите целое число, лучше небольшое'))\n",
    "\n",
    "massiv = np.arange(user_input)[::-1]\n",
    "\n",
    "print(f'Вы ввели число {user_input}')\n",
    "massiv"
   ]
  },
  {
   "cell_type": "markdown",
   "metadata": {},
   "source": [
    "### Задание 2\n",
    "\n",
    "Создайте диагональную матрицу с элементами от N до 0. Посчитайте сумму ее значений на диагонали."
   ]
  },
  {
   "cell_type": "code",
   "execution_count": 112,
   "metadata": {
    "tags": []
   },
   "outputs": [
    {
     "output_type": "stream",
     "name": "stdout",
     "text": "Вы ввели число 8\n"
    },
    {
     "output_type": "execute_result",
     "data": {
      "text/plain": "array([[7, 0, 0, 0, 0, 0, 0, 0],\n       [0, 6, 0, 0, 0, 0, 0, 0],\n       [0, 0, 5, 0, 0, 0, 0, 0],\n       [0, 0, 0, 4, 0, 0, 0, 0],\n       [0, 0, 0, 0, 3, 0, 0, 0],\n       [0, 0, 0, 0, 0, 2, 0, 0],\n       [0, 0, 0, 0, 0, 0, 1, 0],\n       [0, 0, 0, 0, 0, 0, 0, 0]])"
     },
     "metadata": {},
     "execution_count": 112
    }
   ],
   "source": [
    "user_inp = int(input('Введите целое число, небольшое лучше'))\n",
    "\n",
    "matrix = np.diag(np.arange(user_inp)[::-1])\n",
    "\n",
    "print(f'Вы ввели число {user_inp}')\n",
    "matrix"
   ]
  },
  {
   "cell_type": "code",
   "execution_count": 113,
   "metadata": {
    "tags": []
   },
   "outputs": [
    {
     "output_type": "stream",
     "name": "stdout",
     "text": "Сумма диагональных элементов равна 28\n"
    }
   ],
   "source": [
    "# считаем сумму значений на диагонали\n",
    "sum_elements = 0\n",
    "\n",
    "for index in range(len(matrix)):\n",
    "    sum_elements += matrix[index][index]\n",
    "        \n",
    "print(f'Сумма диагональных элементов равна {sum_elements}')\n"
   ]
  },
  {
   "cell_type": "code",
   "execution_count": 114,
   "metadata": {},
   "outputs": [
    {
     "output_type": "execute_result",
     "data": {
      "text/plain": "28"
     },
     "metadata": {},
     "execution_count": 114
    }
   ],
   "source": [
    "# \"короткий\" вариант решения\n",
    "\n",
    "sum(matrix[index][index] for index in range(len(matrix)))"
   ]
  },
  {
   "cell_type": "markdown",
   "metadata": {},
   "source": [
    "### Задание 3\n",
    "\n",
    "Решите систему уравнений:\n",
    "\n",
    "4x + 2y + z = 4\n",
    "\n",
    "x + 3y = 12\n",
    "\n",
    "5y + 4z = -3\n"
   ]
  },
  {
   "cell_type": "code",
   "execution_count": 2,
   "metadata": {},
   "outputs": [],
   "source": [
    "# создаем из коэффициентов матрицу и массив\n",
    "m_1 = np.array([[4, 2, 1], [1, 3, 0], [0, 5, 4]])\n",
    "m_2 = np.array([4, 12, -3])"
   ]
  },
  {
   "cell_type": "code",
   "execution_count": 29,
   "metadata": {},
   "outputs": [],
   "source": [
    "from numpy import linalg"
   ]
  },
  {
   "cell_type": "code",
   "execution_count": 7,
   "metadata": {},
   "outputs": [
    {
     "output_type": "execute_result",
     "data": {
      "text/plain": "array([ 0.46666667,  3.84444444, -5.55555556])"
     },
     "metadata": {},
     "execution_count": 7
    }
   ],
   "source": [
    "# получаем значения x, y, z\n",
    "linalg.solve(m_1, m_2)"
   ]
  },
  {
   "cell_type": "code",
   "execution_count": 9,
   "metadata": {},
   "outputs": [
    {
     "output_type": "execute_result",
     "data": {
      "text/plain": "True"
     },
     "metadata": {},
     "execution_count": 9
    }
   ],
   "source": [
    "# проверка решения\n",
    "np.allclose( np.dot(m_1, linalg.solve(m_1, m_2)), m_2 )"
   ]
  },
  {
   "cell_type": "markdown",
   "metadata": {},
   "source": [
    "### Задание 4\n",
    "Имеется матрица покупок в интернет-магазине. Столбец А - ID пользователя (виден только на скриншоте). Остальные столбцы - количество покупок категорий товаров этими пользователями. Матрица покупок по категориям в виде numpy array:"
   ]
  },
  {
   "cell_type": "code",
   "execution_count": 30,
   "metadata": {},
   "outputs": [],
   "source": [
    "users_stats = np.array(\n",
    "    [\n",
    "        [2, 1, 0, 0, 0, 0],\n",
    "        [1, 1, 2, 1, 0, 0],\n",
    "        [2, 0, 1, 0, 0, 0],\n",
    "        [1, 1, 2, 1, 0, 1],\n",
    "        [0, 0, 1, 2, 0, 0],\n",
    "        [0, 0, 0, 0, 0, 5],\n",
    "        [1, 0, 0, 0, 0, 0],\n",
    "        [0, 1, 1, 0, 0, 0],\n",
    "        [0, 0, 0, 1, 1, 3],\n",
    "        [1, 0, 0, 2, 1, 4]\n",
    "    ], \n",
    ")"
   ]
  },
  {
   "cell_type": "markdown",
   "metadata": {},
   "source": [
    "На сайт заходит очередной посетитель, о покупках которого известно следующее:"
   ]
  },
  {
   "cell_type": "code",
   "execution_count": 31,
   "metadata": {},
   "outputs": [],
   "source": [
    "next_user_stats = np.array([0, 1, 2, 0, 0, 0])"
   ]
  },
  {
   "cell_type": "markdown",
   "metadata": {},
   "source": [
    "Найдите самого похожего пользователя. Т. е. посчитайте косинусное расстояние между этим пользователем и всеми пользователями из массива user_stats"
   ]
  },
  {
   "cell_type": "code",
   "execution_count": 52,
   "metadata": {
    "tags": []
   },
   "outputs": [],
   "source": [
    "# определяем длину вектора нового пользователя\n",
    "next_length = np.linalg.norm( next_user_stats )\n",
    "\n",
    "# создаем пустой массив, в котором будем искать мах значение (близкое к 1)\n",
    "array_cosinus = np.array([])\n",
    "\n",
    "for user in users_stats:\n",
    "    \n",
    "    # для каждого user определяем длину вектора\n",
    "    length = np.linalg.norm( user )\n",
    "\n",
    "    # рассчитываем косинусное расстояние между новым и каждым user\n",
    "    cosinus = np.dot( next_user_stats, user ) / (next_length * length)\n",
    "\n",
    "    # добавляем полученное значение в массив\n",
    "    array_cosinus = np.append(array_cosinus, cosinus)"
   ]
  },
  {
   "cell_type": "code",
   "execution_count": 55,
   "metadata": {},
   "outputs": [
    {
     "output_type": "execute_result",
     "data": {
      "text/plain": "array([0.2       , 0.84515425, 0.4       , 0.79056942, 0.4       ,\n       0.        , 0.        , 0.9486833 , 0.        , 0.        ])"
     },
     "metadata": {},
     "execution_count": 55
    }
   ],
   "source": [
    "# смотрим на полученные данные (для информации)\n",
    "array_cosinus"
   ]
  },
  {
   "cell_type": "code",
   "execution_count": 58,
   "metadata": {},
   "outputs": [
    {
     "output_type": "execute_result",
     "data": {
      "text/plain": "8"
     },
     "metadata": {},
     "execution_count": 58
    }
   ],
   "source": [
    "# для получения ID пользователя, на которого похож новый,\n",
    "# определяем индекс мах значения в массиве и прибавляем 1 (индексация начинается с 0)\n",
    "\n",
    "array_cosinus.argmax() + 1"
   ]
  },
  {
   "cell_type": "code",
   "execution_count": null,
   "metadata": {},
   "outputs": [],
   "source": []
  }
 ],
 "metadata": {
  "language_info": {
   "codemirror_mode": {
    "name": "ipython",
    "version": 3
   },
   "file_extension": ".py",
   "mimetype": "text/x-python",
   "name": "python",
   "nbconvert_exporter": "python",
   "pygments_lexer": "ipython3",
   "version": "3.7.2-final"
  },
  "orig_nbformat": 2,
  "kernelspec": {
   "name": "python37264bit756f231e437a4db2b965934ccae74f70",
   "display_name": "Python 3.7.2 64-bit"
  }
 },
 "nbformat": 4,
 "nbformat_minor": 2
}